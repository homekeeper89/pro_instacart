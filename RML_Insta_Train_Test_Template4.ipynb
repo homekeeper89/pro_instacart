{
 "cells": [
  {
   "cell_type": "markdown",
   "metadata": {},
   "source": [
    "# 자료 불러오기"
   ]
  },
  {
   "cell_type": "code",
   "execution_count": 1,
   "metadata": {
    "collapsed": true
   },
   "outputs": [],
   "source": [
    "import pandas as pd\n",
    "import numpy as np"
   ]
  },
  {
   "cell_type": "code",
   "execution_count": 2,
   "metadata": {
    "collapsed": true
   },
   "outputs": [],
   "source": [
    "folder = 'C:\\\\Users\\\\ACEIT\\\\Documents\\\\DSS\\\\Project\\\\Instacart\\\\'"
   ]
  },
  {
   "cell_type": "markdown",
   "metadata": {},
   "source": [
    "#### train, test order set 구분을 위해 orders.csv 파일을 가져온다"
   ]
  },
  {
   "cell_type": "code",
   "execution_count": 3,
   "metadata": {
    "collapsed": true
   },
   "outputs": [],
   "source": [
    "orders = pd.read_csv(folder + 'orders\\\\orders.csv', dtype={\n",
    "        'order_id': np.int32,\n",
    "        'user_id': np.int32,\n",
    "        'eval_set': 'category',\n",
    "        'order_number': np.int16,\n",
    "        'order_dow': np.int8,\n",
    "        'order_hour_of_day': np.int8,\n",
    "        'days_since_prior_order': np.float32})"
   ]
  },
  {
   "cell_type": "code",
   "execution_count": 4,
   "metadata": {},
   "outputs": [
    {
     "data": {
      "text/html": [
       "<div>\n",
       "<style>\n",
       "    .dataframe thead tr:only-child th {\n",
       "        text-align: right;\n",
       "    }\n",
       "\n",
       "    .dataframe thead th {\n",
       "        text-align: left;\n",
       "    }\n",
       "\n",
       "    .dataframe tbody tr th {\n",
       "        vertical-align: top;\n",
       "    }\n",
       "</style>\n",
       "<table border=\"1\" class=\"dataframe\">\n",
       "  <thead>\n",
       "    <tr style=\"text-align: right;\">\n",
       "      <th></th>\n",
       "      <th>order_id</th>\n",
       "      <th>user_id</th>\n",
       "      <th>eval_set</th>\n",
       "      <th>order_number</th>\n",
       "      <th>order_dow</th>\n",
       "      <th>order_hour_of_day</th>\n",
       "      <th>days_since_prior_order</th>\n",
       "    </tr>\n",
       "  </thead>\n",
       "  <tbody>\n",
       "    <tr>\n",
       "      <th>0</th>\n",
       "      <td>2539329</td>\n",
       "      <td>1</td>\n",
       "      <td>prior</td>\n",
       "      <td>1</td>\n",
       "      <td>2</td>\n",
       "      <td>8</td>\n",
       "      <td>NaN</td>\n",
       "    </tr>\n",
       "    <tr>\n",
       "      <th>1</th>\n",
       "      <td>2398795</td>\n",
       "      <td>1</td>\n",
       "      <td>prior</td>\n",
       "      <td>2</td>\n",
       "      <td>3</td>\n",
       "      <td>7</td>\n",
       "      <td>15.0</td>\n",
       "    </tr>\n",
       "  </tbody>\n",
       "</table>\n",
       "</div>"
      ],
      "text/plain": [
       "   order_id  user_id eval_set  order_number  order_dow  order_hour_of_day  \\\n",
       "0   2539329        1    prior             1          2                  8   \n",
       "1   2398795        1    prior             2          3                  7   \n",
       "\n",
       "   days_since_prior_order  \n",
       "0                     NaN  \n",
       "1                    15.0  "
      ]
     },
     "execution_count": 4,
     "metadata": {},
     "output_type": "execute_result"
    }
   ],
   "source": [
    "orders.head(2)"
   ]
  },
  {
   "cell_type": "code",
   "execution_count": 5,
   "metadata": {
    "collapsed": true
   },
   "outputs": [],
   "source": [
    "test_order = orders[orders['eval_set']=='test']"
   ]
  },
  {
   "cell_type": "markdown",
   "metadata": {},
   "source": [
    "#### Train Data을 가져온다. Train_data는 다른 파일에서 미리 작업해서 가져온 Template 파일이다\n",
    " * train_data1 = User가 과거에 구매했던 Product 리스트들을 후보군으로 정함\n",
    " * train_data2 = Order의 DOW에 가장 많이 팔리는 Product 리스트들을 후보군으로 정함\n",
    " * train_data3 = User의 Segment마다 가장 많이 팔리는 Product 리스트를 후보군으로 정함"
   ]
  },
  {
   "cell_type": "code",
   "execution_count": 6,
   "metadata": {
    "collapsed": true
   },
   "outputs": [],
   "source": [
    "train_data1 = pd.read_csv('C:\\\\Users\\\\ACEIT\\\\Documents\\\\DSS\\\\Project\\\\Instacart\\\\lgbexample_trainX.csv',\n",
    "                         dtype = {\n",
    "                             'order_id': np.int32,\n",
    "                             'product_id': np.uint16,\n",
    "                             'user_total_orders': np.uint16,\n",
    "                             'user_total_items' : np.uint16,\n",
    "                             'total_distinct_items' : np.uint16,\n",
    "                             'user_average_days_orders' : np.float16,\n",
    "                             'user_average_basket': np.float32,\n",
    "                             'order_hour_of_day' : np.uint16,\n",
    "                             'days_since_prior_order': np.float16,\n",
    "                             'product_orders': np.int32,\n",
    "                             'product_reorders': np.int32,\n",
    "                             'UP_orders': np.uint16,\n",
    "                             'UP_orders_since_last': np.int16,\n",
    "                             'UP_delta_hour_vs_last': np.int16,\n",
    "                             'train_y': np.int16             \n",
    "                         })\n",
    "\n",
    "# 무거운 Data를 불러올 때 Pandas는 각 자료가 어떤 type인지 분석하는데 자원을 많이 사용한다.\n",
    "# 따라서 가능하면 d-type을 지정해 주는 것이 좋으며, type을 정할 때 아래 링크 참고할 것\n",
    "# https://msdn.microsoft.com/ko-kr/library/s3f49ktz.aspx"
   ]
  },
  {
   "cell_type": "code",
   "execution_count": 7,
   "metadata": {},
   "outputs": [
    {
     "data": {
      "text/plain": [
       "(8474661, 23)"
      ]
     },
     "execution_count": 7,
     "metadata": {},
     "output_type": "execute_result"
    }
   ],
   "source": [
    "train_data1.shape"
   ]
  },
  {
   "cell_type": "code",
   "execution_count": 8,
   "metadata": {},
   "outputs": [
    {
     "data": {
      "text/html": [
       "<div>\n",
       "<style>\n",
       "    .dataframe thead tr:only-child th {\n",
       "        text-align: right;\n",
       "    }\n",
       "\n",
       "    .dataframe thead th {\n",
       "        text-align: left;\n",
       "    }\n",
       "\n",
       "    .dataframe tbody tr th {\n",
       "        vertical-align: top;\n",
       "    }\n",
       "</style>\n",
       "<table border=\"1\" class=\"dataframe\">\n",
       "  <thead>\n",
       "    <tr style=\"text-align: right;\">\n",
       "      <th></th>\n",
       "      <th>Unnamed: 0</th>\n",
       "      <th>order_id</th>\n",
       "      <th>product_id</th>\n",
       "      <th>user_total_orders</th>\n",
       "      <th>user_total_items</th>\n",
       "      <th>total_distinct_items</th>\n",
       "      <th>user_average_days_between_orders</th>\n",
       "      <th>user_average_basket</th>\n",
       "      <th>order_hour_of_day</th>\n",
       "      <th>days_since_prior_order</th>\n",
       "      <th>...</th>\n",
       "      <th>product_orders</th>\n",
       "      <th>product_reorders</th>\n",
       "      <th>product_reorder_rate</th>\n",
       "      <th>UP_orders</th>\n",
       "      <th>UP_orders_ratio</th>\n",
       "      <th>UP_average_pos_in_cart</th>\n",
       "      <th>UP_reorder_rate</th>\n",
       "      <th>UP_orders_since_last</th>\n",
       "      <th>UP_delta_hour_vs_last</th>\n",
       "      <th>train_y</th>\n",
       "    </tr>\n",
       "  </thead>\n",
       "  <tbody>\n",
       "    <tr>\n",
       "      <th>0</th>\n",
       "      <td>0</td>\n",
       "      <td>1187899</td>\n",
       "      <td>17122</td>\n",
       "      <td>11</td>\n",
       "      <td>59</td>\n",
       "      <td>18</td>\n",
       "      <td>19.0</td>\n",
       "      <td>5.363636</td>\n",
       "      <td>8</td>\n",
       "      <td>14.0</td>\n",
       "      <td>...</td>\n",
       "      <td>13880</td>\n",
       "      <td>9377</td>\n",
       "      <td>0.675576</td>\n",
       "      <td>1</td>\n",
       "      <td>0.090909</td>\n",
       "      <td>6.0</td>\n",
       "      <td>0.090909</td>\n",
       "      <td>6</td>\n",
       "      <td>7</td>\n",
       "      <td>0</td>\n",
       "    </tr>\n",
       "    <tr>\n",
       "      <th>1</th>\n",
       "      <td>1</td>\n",
       "      <td>1187899</td>\n",
       "      <td>196</td>\n",
       "      <td>11</td>\n",
       "      <td>59</td>\n",
       "      <td>18</td>\n",
       "      <td>19.0</td>\n",
       "      <td>5.363636</td>\n",
       "      <td>8</td>\n",
       "      <td>14.0</td>\n",
       "      <td>...</td>\n",
       "      <td>35791</td>\n",
       "      <td>27791</td>\n",
       "      <td>0.776480</td>\n",
       "      <td>10</td>\n",
       "      <td>0.909091</td>\n",
       "      <td>1.4</td>\n",
       "      <td>0.909091</td>\n",
       "      <td>1</td>\n",
       "      <td>0</td>\n",
       "      <td>1</td>\n",
       "    </tr>\n",
       "    <tr>\n",
       "      <th>2</th>\n",
       "      <td>2</td>\n",
       "      <td>1187899</td>\n",
       "      <td>26405</td>\n",
       "      <td>11</td>\n",
       "      <td>59</td>\n",
       "      <td>18</td>\n",
       "      <td>19.0</td>\n",
       "      <td>5.363636</td>\n",
       "      <td>8</td>\n",
       "      <td>14.0</td>\n",
       "      <td>...</td>\n",
       "      <td>1214</td>\n",
       "      <td>536</td>\n",
       "      <td>0.441516</td>\n",
       "      <td>2</td>\n",
       "      <td>0.181818</td>\n",
       "      <td>5.0</td>\n",
       "      <td>0.181818</td>\n",
       "      <td>7</td>\n",
       "      <td>1</td>\n",
       "      <td>1</td>\n",
       "    </tr>\n",
       "    <tr>\n",
       "      <th>3</th>\n",
       "      <td>3</td>\n",
       "      <td>1187899</td>\n",
       "      <td>46149</td>\n",
       "      <td>11</td>\n",
       "      <td>59</td>\n",
       "      <td>18</td>\n",
       "      <td>19.0</td>\n",
       "      <td>5.363636</td>\n",
       "      <td>8</td>\n",
       "      <td>14.0</td>\n",
       "      <td>...</td>\n",
       "      <td>8558</td>\n",
       "      <td>6953</td>\n",
       "      <td>0.812456</td>\n",
       "      <td>3</td>\n",
       "      <td>0.272727</td>\n",
       "      <td>3.0</td>\n",
       "      <td>0.272727</td>\n",
       "      <td>1</td>\n",
       "      <td>0</td>\n",
       "      <td>1</td>\n",
       "    </tr>\n",
       "    <tr>\n",
       "      <th>4</th>\n",
       "      <td>4</td>\n",
       "      <td>1187899</td>\n",
       "      <td>14084</td>\n",
       "      <td>11</td>\n",
       "      <td>59</td>\n",
       "      <td>18</td>\n",
       "      <td>19.0</td>\n",
       "      <td>5.363636</td>\n",
       "      <td>8</td>\n",
       "      <td>14.0</td>\n",
       "      <td>...</td>\n",
       "      <td>15935</td>\n",
       "      <td>12923</td>\n",
       "      <td>0.810982</td>\n",
       "      <td>1</td>\n",
       "      <td>0.090909</td>\n",
       "      <td>2.0</td>\n",
       "      <td>0.090909</td>\n",
       "      <td>10</td>\n",
       "      <td>0</td>\n",
       "      <td>0</td>\n",
       "    </tr>\n",
       "  </tbody>\n",
       "</table>\n",
       "<p>5 rows × 23 columns</p>\n",
       "</div>"
      ],
      "text/plain": [
       "   Unnamed: 0  order_id  product_id  user_total_orders  user_total_items  \\\n",
       "0           0   1187899       17122                 11                59   \n",
       "1           1   1187899         196                 11                59   \n",
       "2           2   1187899       26405                 11                59   \n",
       "3           3   1187899       46149                 11                59   \n",
       "4           4   1187899       14084                 11                59   \n",
       "\n",
       "   total_distinct_items  user_average_days_between_orders  \\\n",
       "0                    18                              19.0   \n",
       "1                    18                              19.0   \n",
       "2                    18                              19.0   \n",
       "3                    18                              19.0   \n",
       "4                    18                              19.0   \n",
       "\n",
       "   user_average_basket  order_hour_of_day  days_since_prior_order   ...     \\\n",
       "0             5.363636                  8                    14.0   ...      \n",
       "1             5.363636                  8                    14.0   ...      \n",
       "2             5.363636                  8                    14.0   ...      \n",
       "3             5.363636                  8                    14.0   ...      \n",
       "4             5.363636                  8                    14.0   ...      \n",
       "\n",
       "   product_orders  product_reorders  product_reorder_rate  UP_orders  \\\n",
       "0           13880              9377              0.675576          1   \n",
       "1           35791             27791              0.776480         10   \n",
       "2            1214               536              0.441516          2   \n",
       "3            8558              6953              0.812456          3   \n",
       "4           15935             12923              0.810982          1   \n",
       "\n",
       "   UP_orders_ratio  UP_average_pos_in_cart  UP_reorder_rate  \\\n",
       "0         0.090909                     6.0         0.090909   \n",
       "1         0.909091                     1.4         0.909091   \n",
       "2         0.181818                     5.0         0.181818   \n",
       "3         0.272727                     3.0         0.272727   \n",
       "4         0.090909                     2.0         0.090909   \n",
       "\n",
       "   UP_orders_since_last  UP_delta_hour_vs_last  train_y  \n",
       "0                     6                      7        0  \n",
       "1                     1                      0        1  \n",
       "2                     7                      1        1  \n",
       "3                     1                      0        1  \n",
       "4                    10                      0        0  \n",
       "\n",
       "[5 rows x 23 columns]"
      ]
     },
     "execution_count": 8,
     "metadata": {},
     "output_type": "execute_result"
    }
   ],
   "source": [
    "train_data1.head()"
   ]
  },
  {
   "cell_type": "code",
   "execution_count": 9,
   "metadata": {},
   "outputs": [
    {
     "data": {
      "text/plain": [
       "Index(['Unnamed: 0', 'order_id', 'product_id', 'user_total_orders',\n",
       "       'user_total_items', 'total_distinct_items',\n",
       "       'user_average_days_between_orders', 'user_average_basket',\n",
       "       'order_hour_of_day', 'days_since_prior_order', 'days_since_ratio',\n",
       "       'aisle_id', 'department_id', 'product_orders', 'product_reorders',\n",
       "       'product_reorder_rate', 'UP_orders', 'UP_orders_ratio',\n",
       "       'UP_average_pos_in_cart', 'UP_reorder_rate', 'UP_orders_since_last',\n",
       "       'UP_delta_hour_vs_last', 'train_y'],\n",
       "      dtype='object')"
      ]
     },
     "execution_count": 9,
     "metadata": {},
     "output_type": "execute_result"
    }
   ],
   "source": [
    "train_data1.columns"
   ]
  },
  {
   "cell_type": "code",
   "execution_count": 10,
   "metadata": {
    "collapsed": true
   },
   "outputs": [],
   "source": [
    "train_data1.drop('Unnamed: 0', axis=1, inplace=True)"
   ]
  },
  {
   "cell_type": "code",
   "execution_count": 11,
   "metadata": {
    "collapsed": true
   },
   "outputs": [],
   "source": [
    "train_data1.set_index(['order_id','product_id'], inplace=True)"
   ]
  },
  {
   "cell_type": "code",
   "execution_count": 12,
   "metadata": {},
   "outputs": [
    {
     "data": {
      "text/html": [
       "<div>\n",
       "<style>\n",
       "    .dataframe thead tr:only-child th {\n",
       "        text-align: right;\n",
       "    }\n",
       "\n",
       "    .dataframe thead th {\n",
       "        text-align: left;\n",
       "    }\n",
       "\n",
       "    .dataframe tbody tr th {\n",
       "        vertical-align: top;\n",
       "    }\n",
       "</style>\n",
       "<table border=\"1\" class=\"dataframe\">\n",
       "  <thead>\n",
       "    <tr style=\"text-align: right;\">\n",
       "      <th></th>\n",
       "      <th></th>\n",
       "      <th>user_total_orders</th>\n",
       "      <th>user_total_items</th>\n",
       "      <th>total_distinct_items</th>\n",
       "      <th>user_average_days_between_orders</th>\n",
       "      <th>user_average_basket</th>\n",
       "      <th>order_hour_of_day</th>\n",
       "      <th>days_since_prior_order</th>\n",
       "      <th>days_since_ratio</th>\n",
       "      <th>aisle_id</th>\n",
       "      <th>department_id</th>\n",
       "      <th>product_orders</th>\n",
       "      <th>product_reorders</th>\n",
       "      <th>product_reorder_rate</th>\n",
       "      <th>UP_orders</th>\n",
       "      <th>UP_orders_ratio</th>\n",
       "      <th>UP_average_pos_in_cart</th>\n",
       "      <th>UP_reorder_rate</th>\n",
       "      <th>UP_orders_since_last</th>\n",
       "      <th>UP_delta_hour_vs_last</th>\n",
       "      <th>train_y</th>\n",
       "    </tr>\n",
       "    <tr>\n",
       "      <th>order_id</th>\n",
       "      <th>product_id</th>\n",
       "      <th></th>\n",
       "      <th></th>\n",
       "      <th></th>\n",
       "      <th></th>\n",
       "      <th></th>\n",
       "      <th></th>\n",
       "      <th></th>\n",
       "      <th></th>\n",
       "      <th></th>\n",
       "      <th></th>\n",
       "      <th></th>\n",
       "      <th></th>\n",
       "      <th></th>\n",
       "      <th></th>\n",
       "      <th></th>\n",
       "      <th></th>\n",
       "      <th></th>\n",
       "      <th></th>\n",
       "      <th></th>\n",
       "      <th></th>\n",
       "    </tr>\n",
       "  </thead>\n",
       "  <tbody>\n",
       "    <tr>\n",
       "      <th rowspan=\"5\" valign=\"top\">1187899</th>\n",
       "      <th>17122</th>\n",
       "      <td>11</td>\n",
       "      <td>59</td>\n",
       "      <td>18</td>\n",
       "      <td>19.0</td>\n",
       "      <td>5.363636</td>\n",
       "      <td>8</td>\n",
       "      <td>14.0</td>\n",
       "      <td>0.736842</td>\n",
       "      <td>24</td>\n",
       "      <td>4</td>\n",
       "      <td>13880</td>\n",
       "      <td>9377</td>\n",
       "      <td>0.675576</td>\n",
       "      <td>1</td>\n",
       "      <td>0.090909</td>\n",
       "      <td>6.0</td>\n",
       "      <td>0.090909</td>\n",
       "      <td>6</td>\n",
       "      <td>7</td>\n",
       "      <td>0</td>\n",
       "    </tr>\n",
       "    <tr>\n",
       "      <th>196</th>\n",
       "      <td>11</td>\n",
       "      <td>59</td>\n",
       "      <td>18</td>\n",
       "      <td>19.0</td>\n",
       "      <td>5.363636</td>\n",
       "      <td>8</td>\n",
       "      <td>14.0</td>\n",
       "      <td>0.736842</td>\n",
       "      <td>77</td>\n",
       "      <td>7</td>\n",
       "      <td>35791</td>\n",
       "      <td>27791</td>\n",
       "      <td>0.776480</td>\n",
       "      <td>10</td>\n",
       "      <td>0.909091</td>\n",
       "      <td>1.4</td>\n",
       "      <td>0.909091</td>\n",
       "      <td>1</td>\n",
       "      <td>0</td>\n",
       "      <td>1</td>\n",
       "    </tr>\n",
       "    <tr>\n",
       "      <th>26405</th>\n",
       "      <td>11</td>\n",
       "      <td>59</td>\n",
       "      <td>18</td>\n",
       "      <td>19.0</td>\n",
       "      <td>5.363636</td>\n",
       "      <td>8</td>\n",
       "      <td>14.0</td>\n",
       "      <td>0.736842</td>\n",
       "      <td>54</td>\n",
       "      <td>17</td>\n",
       "      <td>1214</td>\n",
       "      <td>536</td>\n",
       "      <td>0.441516</td>\n",
       "      <td>2</td>\n",
       "      <td>0.181818</td>\n",
       "      <td>5.0</td>\n",
       "      <td>0.181818</td>\n",
       "      <td>7</td>\n",
       "      <td>1</td>\n",
       "      <td>1</td>\n",
       "    </tr>\n",
       "    <tr>\n",
       "      <th>46149</th>\n",
       "      <td>11</td>\n",
       "      <td>59</td>\n",
       "      <td>18</td>\n",
       "      <td>19.0</td>\n",
       "      <td>5.363636</td>\n",
       "      <td>8</td>\n",
       "      <td>14.0</td>\n",
       "      <td>0.736842</td>\n",
       "      <td>77</td>\n",
       "      <td>7</td>\n",
       "      <td>8558</td>\n",
       "      <td>6953</td>\n",
       "      <td>0.812456</td>\n",
       "      <td>3</td>\n",
       "      <td>0.272727</td>\n",
       "      <td>3.0</td>\n",
       "      <td>0.272727</td>\n",
       "      <td>1</td>\n",
       "      <td>0</td>\n",
       "      <td>1</td>\n",
       "    </tr>\n",
       "    <tr>\n",
       "      <th>14084</th>\n",
       "      <td>11</td>\n",
       "      <td>59</td>\n",
       "      <td>18</td>\n",
       "      <td>19.0</td>\n",
       "      <td>5.363636</td>\n",
       "      <td>8</td>\n",
       "      <td>14.0</td>\n",
       "      <td>0.736842</td>\n",
       "      <td>91</td>\n",
       "      <td>16</td>\n",
       "      <td>15935</td>\n",
       "      <td>12923</td>\n",
       "      <td>0.810982</td>\n",
       "      <td>1</td>\n",
       "      <td>0.090909</td>\n",
       "      <td>2.0</td>\n",
       "      <td>0.090909</td>\n",
       "      <td>10</td>\n",
       "      <td>0</td>\n",
       "      <td>0</td>\n",
       "    </tr>\n",
       "  </tbody>\n",
       "</table>\n",
       "</div>"
      ],
      "text/plain": [
       "                     user_total_orders  user_total_items  \\\n",
       "order_id product_id                                        \n",
       "1187899  17122                      11                59   \n",
       "         196                        11                59   \n",
       "         26405                      11                59   \n",
       "         46149                      11                59   \n",
       "         14084                      11                59   \n",
       "\n",
       "                     total_distinct_items  user_average_days_between_orders  \\\n",
       "order_id product_id                                                           \n",
       "1187899  17122                         18                              19.0   \n",
       "         196                           18                              19.0   \n",
       "         26405                         18                              19.0   \n",
       "         46149                         18                              19.0   \n",
       "         14084                         18                              19.0   \n",
       "\n",
       "                     user_average_basket  order_hour_of_day  \\\n",
       "order_id product_id                                           \n",
       "1187899  17122                  5.363636                  8   \n",
       "         196                    5.363636                  8   \n",
       "         26405                  5.363636                  8   \n",
       "         46149                  5.363636                  8   \n",
       "         14084                  5.363636                  8   \n",
       "\n",
       "                     days_since_prior_order  days_since_ratio  aisle_id  \\\n",
       "order_id product_id                                                       \n",
       "1187899  17122                         14.0          0.736842        24   \n",
       "         196                           14.0          0.736842        77   \n",
       "         26405                         14.0          0.736842        54   \n",
       "         46149                         14.0          0.736842        77   \n",
       "         14084                         14.0          0.736842        91   \n",
       "\n",
       "                     department_id  product_orders  product_reorders  \\\n",
       "order_id product_id                                                    \n",
       "1187899  17122                   4           13880              9377   \n",
       "         196                     7           35791             27791   \n",
       "         26405                  17            1214               536   \n",
       "         46149                   7            8558              6953   \n",
       "         14084                  16           15935             12923   \n",
       "\n",
       "                     product_reorder_rate  UP_orders  UP_orders_ratio  \\\n",
       "order_id product_id                                                     \n",
       "1187899  17122                   0.675576          1         0.090909   \n",
       "         196                     0.776480         10         0.909091   \n",
       "         26405                   0.441516          2         0.181818   \n",
       "         46149                   0.812456          3         0.272727   \n",
       "         14084                   0.810982          1         0.090909   \n",
       "\n",
       "                     UP_average_pos_in_cart  UP_reorder_rate  \\\n",
       "order_id product_id                                            \n",
       "1187899  17122                          6.0         0.090909   \n",
       "         196                            1.4         0.909091   \n",
       "         26405                          5.0         0.181818   \n",
       "         46149                          3.0         0.272727   \n",
       "         14084                          2.0         0.090909   \n",
       "\n",
       "                     UP_orders_since_last  UP_delta_hour_vs_last  train_y  \n",
       "order_id product_id                                                        \n",
       "1187899  17122                          6                      7        0  \n",
       "         196                            1                      0        1  \n",
       "         26405                          7                      1        1  \n",
       "         46149                          1                      0        1  \n",
       "         14084                         10                      0        0  "
      ]
     },
     "execution_count": 12,
     "metadata": {},
     "output_type": "execute_result"
    }
   ],
   "source": [
    "train_data1.head()"
   ]
  },
  {
   "cell_type": "markdown",
   "metadata": {},
   "source": [
    "#### 우리가 사용하는 모든 모델이 다 똑똑한 것은 아니다.\n",
    "#### SVM이나 RandomForest같이 늙은 모델들은 우리가 NAN값을 따로 처리해주어야 한다.\n",
    "#### Days_Since_Ratio만 Nan값이 존재한다"
   ]
  },
  {
   "cell_type": "code",
   "execution_count": 14,
   "metadata": {},
   "outputs": [
    {
     "data": {
      "text/plain": [
       "user_total_orders                   False\n",
       "user_total_items                    False\n",
       "total_distinct_items                False\n",
       "user_average_days_between_orders    False\n",
       "user_average_basket                 False\n",
       "order_hour_of_day                   False\n",
       "days_since_prior_order              False\n",
       "days_since_ratio                     True\n",
       "aisle_id                            False\n",
       "department_id                       False\n",
       "product_orders                      False\n",
       "product_reorders                    False\n",
       "product_reorder_rate                False\n",
       "UP_orders                           False\n",
       "UP_orders_ratio                     False\n",
       "UP_average_pos_in_cart              False\n",
       "UP_reorder_rate                     False\n",
       "UP_orders_since_last                False\n",
       "UP_delta_hour_vs_last               False\n",
       "train_y                             False\n",
       "dtype: bool"
      ]
     },
     "execution_count": 14,
     "metadata": {},
     "output_type": "execute_result"
    }
   ],
   "source": [
    "train_data1.isnull().any()\n",
    "#Days Since Ration = days_since_prior_order / user_average_days_between_orders\n",
    "#따라서 평균으로 채워주자"
   ]
  },
  {
   "cell_type": "code",
   "execution_count": 19,
   "metadata": {
    "collapsed": true
   },
   "outputs": [],
   "source": [
    "train_data1['days_since_ratio'] = train_data1['days_since_ratio'].fillna(train_data1['days_since_ratio'].mean())"
   ]
  },
  {
   "cell_type": "code",
   "execution_count": 20,
   "metadata": {},
   "outputs": [
    {
     "data": {
      "text/plain": [
       "user_total_orders                   False\n",
       "user_total_items                    False\n",
       "total_distinct_items                False\n",
       "user_average_days_between_orders    False\n",
       "user_average_basket                 False\n",
       "order_hour_of_day                   False\n",
       "days_since_prior_order              False\n",
       "days_since_ratio                    False\n",
       "aisle_id                            False\n",
       "department_id                       False\n",
       "product_orders                      False\n",
       "product_reorders                    False\n",
       "product_reorder_rate                False\n",
       "UP_orders                           False\n",
       "UP_orders_ratio                     False\n",
       "UP_average_pos_in_cart              False\n",
       "UP_reorder_rate                     False\n",
       "UP_orders_since_last                False\n",
       "UP_delta_hour_vs_last               False\n",
       "train_y                             False\n",
       "dtype: bool"
      ]
     },
     "execution_count": 20,
     "metadata": {},
     "output_type": "execute_result"
    }
   ],
   "source": [
    "train_data1.isnull().any()"
   ]
  },
  {
   "cell_type": "markdown",
   "metadata": {},
   "source": [
    "#### train_data1의 후보군은 총 8,474,661개 였는데, 이 중에서 9.7%만 Training Set에서 실제로 구매되었다."
   ]
  },
  {
   "cell_type": "code",
   "execution_count": 21,
   "metadata": {},
   "outputs": [
    {
     "data": {
      "text/plain": [
       "train_y\n",
       "0    7645837\n",
       "1     828824\n",
       "dtype: int64"
      ]
     },
     "execution_count": 21,
     "metadata": {},
     "output_type": "execute_result"
    }
   ],
   "source": [
    "train_data1.groupby('train_y').size()"
   ]
  },
  {
   "cell_type": "code",
   "execution_count": 22,
   "metadata": {},
   "outputs": [
    {
     "data": {
      "text/plain": [
       "(8474661, 20)"
      ]
     },
     "execution_count": 22,
     "metadata": {},
     "output_type": "execute_result"
    }
   ],
   "source": [
    "train_data1.shape"
   ]
  },
  {
   "cell_type": "code",
   "execution_count": 23,
   "metadata": {
    "collapsed": true
   },
   "outputs": [],
   "source": [
    "#Order_Products_Train 파일을 가져와보자\n",
    "train_order = pd.read_csv(folder + 'order_products__train\\\\order_products__train.csv')"
   ]
  },
  {
   "cell_type": "code",
   "execution_count": 24,
   "metadata": {},
   "outputs": [
    {
     "data": {
      "text/plain": [
       "(1384617, 4)"
      ]
     },
     "execution_count": 24,
     "metadata": {},
     "output_type": "execute_result"
    }
   ],
   "source": [
    "#실제 Train Set에 있는 Row눈 1,384,617개다\n",
    "train_order.shape"
   ]
  },
  {
   "cell_type": "markdown",
   "metadata": {},
   "source": [
    "#### 우리가 갖고 있던 후보군으로 맞출 수 있었던 제품은 60%밖에 안된다. \n",
    "#### 즉, 구매 제품의 40% 정도는 기존 구매 제품 리스트를 후보군으로 하여 예측할 수 없다"
   ]
  },
  {
   "cell_type": "code",
   "execution_count": 107,
   "metadata": {},
   "outputs": [
    {
     "data": {
      "text/plain": [
       "0.5985944127509629"
      ]
     },
     "execution_count": 107,
     "metadata": {},
     "output_type": "execute_result"
    }
   ],
   "source": [
    "828824/1384617"
   ]
  },
  {
   "cell_type": "code",
   "execution_count": 108,
   "metadata": {
    "collapsed": true
   },
   "outputs": [],
   "source": [
    "# Validation을 하려면,,,\n",
    "# 먼저 불러들어온 train_set을 나누고, 이 validation set을 갖고 predict를 해본다.\n",
    "# Threshold를 통해서 1로 나온 order_id와 product_id를 따로 빼놔야 한다.\n",
    "#Validatin의 order_id를 가져와 train_product 파일에서 실제 (order_id product_id)의 리스트, 튜플, df...뭐든 만든 다음에\n"
   ]
  },
  {
   "cell_type": "markdown",
   "metadata": {},
   "source": [
    "## Package Import 및 Model별 Hyperparameter 지정해주기"
   ]
  },
  {
   "cell_type": "code",
   "execution_count": 25,
   "metadata": {
    "collapsed": true
   },
   "outputs": [],
   "source": [
    "import lightgbm as lgb\n",
    "import xgboost as xgb\n",
    "from sklearn.ensemble import RandomForestClassifier\n",
    "from sklearn import svm\n",
    "from sklearn.model_selection import train_test_split\n",
    "import matplotlib.pyplot as plt"
   ]
  },
  {
   "cell_type": "markdown",
   "metadata": {},
   "source": [
    "## 반드시 모델 돌리기 전에 아래 f_to_use와 Parameter 확인할 것"
   ]
  },
  {
   "cell_type": "code",
   "execution_count": 26,
   "metadata": {
    "collapsed": true
   },
   "outputs": [],
   "source": [
    "f_to_use_1 = ['user_total_orders', 'user_total_items',\n",
    "       'total_distinct_items', 'user_average_days_between_orders',\n",
    "       'user_average_basket', 'order_hour_of_day', 'days_since_prior_order',\n",
    "       'days_since_ratio', 'aisle_id', 'department_id', 'product_orders',\n",
    "       'product_reorders', 'product_reorder_rate', 'UP_orders',\n",
    "       'UP_orders_ratio', 'UP_average_pos_in_cart', 'UP_reorder_rate',\n",
    "       'UP_orders_since_last', 'UP_delta_hour_vs_last']"
   ]
  },
  {
   "cell_type": "code",
   "execution_count": 27,
   "metadata": {
    "collapsed": true
   },
   "outputs": [],
   "source": [
    "# lightgbm setting\n",
    "\n",
    "lgb_categorical = ['order_hour_of_day']\n",
    "# lightgbm setting\n",
    "lgb_categorical = [   ]\n",
    "lgb_train_params = {\n",
    "    'task': 'train',\n",
    "    'boosting_type': 'gbdt',\n",
    "    'objective': 'binary',\n",
    "    'metric': {'binary_logloss'},\n",
    "    'num_leaves': 96,\n",
    "    'max_depth': 10,\n",
    "    'feature_fraction': 0.9,\n",
    "    'bagging_fraction': 0.95,\n",
    "    'bagging_freq': 5\n",
    "}\n"
   ]
  },
  {
   "cell_type": "code",
   "execution_count": 28,
   "metadata": {
    "collapsed": true
   },
   "outputs": [],
   "source": [
    "#XGBoost setting\n",
    "\n",
    "# XGBoost setting\n",
    "xgb_train_params = {\n",
    "    \"objective\"         : \"reg:logistic\"\n",
    "    ,\"eval_metric\"      : \"logloss\"\n",
    "    ,\"eta\"              : 0.1\n",
    "    ,\"max_depth\"        : 15\n",
    "    ,\"min_child_weight\" :10\n",
    "    ,\"gamma\"            :0.70\n",
    "    ,\"subsample\"        :0.76\n",
    "    ,\"colsample_bytree\" :0.95\n",
    "    ,\"alpha\"            :2e-05\n",
    "    ,\"lambda\"           :10\n",
    "}"
   ]
  },
  {
   "cell_type": "code",
   "execution_count": 29,
   "metadata": {
    "collapsed": true
   },
   "outputs": [],
   "source": [
    "class Train():\n",
    "    def __init__(self, train_data):\n",
    "        #self.features = features\n",
    "        self.target = train_data['train_y']\n",
    "        self.data = train_data.drop(['train_y'], axis = 1)\n",
    "           \n",
    "        \n",
    "    def split(self, test_size = 0.25):\n",
    "        self.test_size = test_size\n",
    "        #features = self.features\n",
    "        self.x_train, self.x_val, self.y_train, self.y_val = train_test_split(self.data, self.target,test_size = self.test_size )\n",
    "        #self.x_train = self.x_train[features]\n",
    "        #self.x_val = self.x_val[features]\n",
    "        \n",
    "    \n",
    "    def Lightgbm(self, parameter=lgb_train_params, categorical=lgb_categorical):\n",
    "        self.categorical = categorical\n",
    "        self.params = parameter\n",
    "        self.dataset = lgb.Dataset(self.x_train, label = self.y_train, categorical_feature = self.categorical)\n",
    "        #features = self.features\n",
    "        del (self.x_train)\n",
    "        del (self.y_train)\n",
    "        self.bst = lgb.train(self.params, self.dataset)\n",
    "        del (self.dataset)\n",
    "        \n",
    "\n",
    "        \n",
    "        \n",
    "    def XGB(self, parameter = xgb_train_params, boostround = 80):\n",
    "        self.boostround = boostround\n",
    "        self.params = parameter\n",
    "        #features = self.features\n",
    "        #self.categorical = categorical\n",
    "        self.dataset = xgb.DMatrix(self.x_train, self.y_train)\n",
    "        self.x_valDM = xgb.DMatrix(self.x_val)\n",
    "        del (self.x_train)\n",
    "        del (self.y_train)\n",
    "        self.watchlist = [(self.dataset, \"train\")]\n",
    "        self.bst = xgb.train(params = self.params, dtrain = self.dataset, num_boost_round = self.boostround,\n",
    "                            evals = self.watchlist, verbose_eval = 10)\n",
    "        del (self.dataset)\n",
    "        \n",
    "        \n",
    "    def SVM(self):\n",
    "        self.clf = svm.SVR()\n",
    "        #features = self.features\n",
    "        self.clf.fit(self.data, self.target)\n",
    "        del (self.x_train)\n",
    "        del (self.y_train)\n",
    "\n",
    "        \n",
    "    def RandomForest(self):\n",
    "        self.clf = RandomForestClassifier(n_estimators=10)\n",
    "        #features = self.features\n",
    "        self.clf.fit(self.data, self.target)\n",
    "        del (self.x_train)\n",
    "        del (self.y_train)\n",
    "   "
   ]
  },
  {
   "cell_type": "markdown",
   "metadata": {},
   "source": [
    "# Light GBM"
   ]
  },
  {
   "cell_type": "markdown",
   "metadata": {},
   "source": [
    "#### Model이란 이름으로 Class를 만든 후 Train/Validation Set을 나눈다."
   ]
  },
  {
   "cell_type": "code",
   "execution_count": 116,
   "metadata": {
    "collapsed": true
   },
   "outputs": [],
   "source": [
    "model = Train(train_data1)"
   ]
  },
  {
   "cell_type": "code",
   "execution_count": 117,
   "metadata": {
    "collapsed": true
   },
   "outputs": [],
   "source": [
    "model.split()"
   ]
  },
  {
   "cell_type": "markdown",
   "metadata": {},
   "source": [
    "#### 사용할 Model을 선택하고 학습시킨다."
   ]
  },
  {
   "cell_type": "code",
   "execution_count": 118,
   "metadata": {
    "collapsed": true
   },
   "outputs": [],
   "source": [
    "# 아래 함수를 구현하는 순간 Training이 자동으로 된다. \n",
    "model.Lightgbm()"
   ]
  },
  {
   "cell_type": "code",
   "execution_count": 119,
   "metadata": {},
   "outputs": [
    {
     "data": {
      "text/plain": [
       "<matplotlib.figure.Figure at 0x1b5b435cb00>"
      ]
     },
     "metadata": {},
     "output_type": "display_data"
    },
    {
     "data": {
      "image/png": "[encoded data removed]",
      "text/plain": [
       "<matplotlib.figure.Figure at 0x1b5b435ca20>"
      ]
     },
     "metadata": {},
     "output_type": "display_data"
    }
   ],
   "source": [
    "plt.clf()\n",
    "lgb.plot_importance(model.bst)\n",
    "plt.show()"
   ]
  },
  {
   "cell_type": "markdown",
   "metadata": {},
   "source": [
    "#### Validation을 진행한다 "
   ]
  },
  {
   "cell_type": "code",
   "execution_count": 120,
   "metadata": {
    "collapsed": true
   },
   "outputs": [],
   "source": [
    "# Split하여 만들어낸 Validation Set을 이용해 예측을 해본다.\n",
    "val_preds = model.bst.predict(model.x_val)"
   ]
  },
  {
   "cell_type": "code",
   "execution_count": 121,
   "metadata": {
    "collapsed": true
   },
   "outputs": [],
   "source": [
    "# Validation Set의 예측값과 실제 값을 같은 DataFrame에 넣는다.\n",
    "validation = pd.DataFrame(model.x_val)\n",
    "validation['real_y'] = model.y_val\n",
    "validation['predicted_y'] = val_preds"
   ]
  },
  {
   "cell_type": "code",
   "execution_count": 122,
   "metadata": {},
   "outputs": [
    {
     "data": {
      "text/html": [
       "<div>\n",
       "<style>\n",
       "    .dataframe thead tr:only-child th {\n",
       "        text-align: right;\n",
       "    }\n",
       "\n",
       "    .dataframe thead th {\n",
       "        text-align: left;\n",
       "    }\n",
       "\n",
       "    .dataframe tbody tr th {\n",
       "        vertical-align: top;\n",
       "    }\n",
       "</style>\n",
       "<table border=\"1\" class=\"dataframe\">\n",
       "  <thead>\n",
       "    <tr style=\"text-align: right;\">\n",
       "      <th></th>\n",
       "      <th></th>\n",
       "      <th>user_total_orders</th>\n",
       "      <th>user_total_items</th>\n",
       "      <th>total_distinct_items</th>\n",
       "      <th>user_average_days_between_orders</th>\n",
       "      <th>user_average_basket</th>\n",
       "      <th>order_hour_of_day</th>\n",
       "      <th>days_since_prior_order</th>\n",
       "      <th>days_since_ratio</th>\n",
       "      <th>aisle_id</th>\n",
       "      <th>department_id</th>\n",
       "      <th>...</th>\n",
       "      <th>product_reorders</th>\n",
       "      <th>product_reorder_rate</th>\n",
       "      <th>UP_orders</th>\n",
       "      <th>UP_orders_ratio</th>\n",
       "      <th>UP_average_pos_in_cart</th>\n",
       "      <th>UP_reorder_rate</th>\n",
       "      <th>UP_orders_since_last</th>\n",
       "      <th>UP_delta_hour_vs_last</th>\n",
       "      <th>real_y</th>\n",
       "      <th>predicted_y</th>\n",
       "    </tr>\n",
       "    <tr>\n",
       "      <th>order_id</th>\n",
       "      <th>product_id</th>\n",
       "      <th></th>\n",
       "      <th></th>\n",
       "      <th></th>\n",
       "      <th></th>\n",
       "      <th></th>\n",
       "      <th></th>\n",
       "      <th></th>\n",
       "      <th></th>\n",
       "      <th></th>\n",
       "      <th></th>\n",
       "      <th></th>\n",
       "      <th></th>\n",
       "      <th></th>\n",
       "      <th></th>\n",
       "      <th></th>\n",
       "      <th></th>\n",
       "      <th></th>\n",
       "      <th></th>\n",
       "      <th></th>\n",
       "      <th></th>\n",
       "      <th></th>\n",
       "    </tr>\n",
       "  </thead>\n",
       "  <tbody>\n",
       "    <tr>\n",
       "      <th>3210471</th>\n",
       "      <th>4642</th>\n",
       "      <td>18</td>\n",
       "      <td>148</td>\n",
       "      <td>57</td>\n",
       "      <td>5.882353</td>\n",
       "      <td>8.222222</td>\n",
       "      <td>23</td>\n",
       "      <td>5.0</td>\n",
       "      <td>0.850000</td>\n",
       "      <td>61</td>\n",
       "      <td>19</td>\n",
       "      <td>...</td>\n",
       "      <td>292</td>\n",
       "      <td>0.669725</td>\n",
       "      <td>1</td>\n",
       "      <td>0.055556</td>\n",
       "      <td>16.0</td>\n",
       "      <td>0.055556</td>\n",
       "      <td>6</td>\n",
       "      <td>5</td>\n",
       "      <td>0</td>\n",
       "      <td>0.041115</td>\n",
       "    </tr>\n",
       "    <tr>\n",
       "      <th>3327594</th>\n",
       "      <th>26050</th>\n",
       "      <td>5</td>\n",
       "      <td>68</td>\n",
       "      <td>43</td>\n",
       "      <td>18.750000</td>\n",
       "      <td>13.600000</td>\n",
       "      <td>18</td>\n",
       "      <td>30.0</td>\n",
       "      <td>1.600000</td>\n",
       "      <td>5</td>\n",
       "      <td>13</td>\n",
       "      <td>...</td>\n",
       "      <td>33</td>\n",
       "      <td>0.192982</td>\n",
       "      <td>1</td>\n",
       "      <td>0.200000</td>\n",
       "      <td>8.0</td>\n",
       "      <td>0.200000</td>\n",
       "      <td>4</td>\n",
       "      <td>1</td>\n",
       "      <td>0</td>\n",
       "      <td>0.031021</td>\n",
       "    </tr>\n",
       "    <tr>\n",
       "      <th>2789512</th>\n",
       "      <th>38080</th>\n",
       "      <td>39</td>\n",
       "      <td>185</td>\n",
       "      <td>70</td>\n",
       "      <td>9.447369</td>\n",
       "      <td>4.743590</td>\n",
       "      <td>20</td>\n",
       "      <td>2.0</td>\n",
       "      <td>0.211699</td>\n",
       "      <td>17</td>\n",
       "      <td>13</td>\n",
       "      <td>...</td>\n",
       "      <td>7</td>\n",
       "      <td>0.318182</td>\n",
       "      <td>1</td>\n",
       "      <td>0.025641</td>\n",
       "      <td>1.0</td>\n",
       "      <td>0.025641</td>\n",
       "      <td>26</td>\n",
       "      <td>2</td>\n",
       "      <td>0</td>\n",
       "      <td>0.006601</td>\n",
       "    </tr>\n",
       "    <tr>\n",
       "      <th>438143</th>\n",
       "      <th>2052</th>\n",
       "      <td>43</td>\n",
       "      <td>900</td>\n",
       "      <td>223</td>\n",
       "      <td>8.547619</td>\n",
       "      <td>20.930233</td>\n",
       "      <td>12</td>\n",
       "      <td>9.0</td>\n",
       "      <td>1.052925</td>\n",
       "      <td>107</td>\n",
       "      <td>19</td>\n",
       "      <td>...</td>\n",
       "      <td>43</td>\n",
       "      <td>0.605634</td>\n",
       "      <td>1</td>\n",
       "      <td>0.023256</td>\n",
       "      <td>17.0</td>\n",
       "      <td>0.023256</td>\n",
       "      <td>41</td>\n",
       "      <td>0</td>\n",
       "      <td>0</td>\n",
       "      <td>0.005740</td>\n",
       "    </tr>\n",
       "    <tr>\n",
       "      <th>1661885</th>\n",
       "      <th>4656</th>\n",
       "      <td>11</td>\n",
       "      <td>144</td>\n",
       "      <td>88</td>\n",
       "      <td>18.600000</td>\n",
       "      <td>13.090909</td>\n",
       "      <td>16</td>\n",
       "      <td>8.0</td>\n",
       "      <td>0.430108</td>\n",
       "      <td>88</td>\n",
       "      <td>13</td>\n",
       "      <td>...</td>\n",
       "      <td>4911</td>\n",
       "      <td>0.491641</td>\n",
       "      <td>1</td>\n",
       "      <td>0.090909</td>\n",
       "      <td>8.0</td>\n",
       "      <td>0.090909</td>\n",
       "      <td>10</td>\n",
       "      <td>3</td>\n",
       "      <td>1</td>\n",
       "      <td>0.030811</td>\n",
       "    </tr>\n",
       "  </tbody>\n",
       "</table>\n",
       "<p>5 rows × 21 columns</p>\n",
       "</div>"
      ],
      "text/plain": [
       "                     user_total_orders  user_total_items  \\\n",
       "order_id product_id                                        \n",
       "3210471  4642                       18               148   \n",
       "3327594  26050                       5                68   \n",
       "2789512  38080                      39               185   \n",
       "438143   2052                       43               900   \n",
       "1661885  4656                       11               144   \n",
       "\n",
       "                     total_distinct_items  user_average_days_between_orders  \\\n",
       "order_id product_id                                                           \n",
       "3210471  4642                          57                          5.882353   \n",
       "3327594  26050                         43                         18.750000   \n",
       "2789512  38080                         70                          9.447369   \n",
       "438143   2052                         223                          8.547619   \n",
       "1661885  4656                          88                         18.600000   \n",
       "\n",
       "                     user_average_basket  order_hour_of_day  \\\n",
       "order_id product_id                                           \n",
       "3210471  4642                   8.222222                 23   \n",
       "3327594  26050                 13.600000                 18   \n",
       "2789512  38080                  4.743590                 20   \n",
       "438143   2052                  20.930233                 12   \n",
       "1661885  4656                  13.090909                 16   \n",
       "\n",
       "                     days_since_prior_order  days_since_ratio  aisle_id  \\\n",
       "order_id product_id                                                       \n",
       "3210471  4642                           5.0          0.850000        61   \n",
       "3327594  26050                         30.0          1.600000         5   \n",
       "2789512  38080                          2.0          0.211699        17   \n",
       "438143   2052                           9.0          1.052925       107   \n",
       "1661885  4656                           8.0          0.430108        88   \n",
       "\n",
       "                     department_id     ...       product_reorders  \\\n",
       "order_id product_id                    ...                          \n",
       "3210471  4642                   19     ...                    292   \n",
       "3327594  26050                  13     ...                     33   \n",
       "2789512  38080                  13     ...                      7   \n",
       "438143   2052                   19     ...                     43   \n",
       "1661885  4656                   13     ...                   4911   \n",
       "\n",
       "                     product_reorder_rate  UP_orders  UP_orders_ratio  \\\n",
       "order_id product_id                                                     \n",
       "3210471  4642                    0.669725          1         0.055556   \n",
       "3327594  26050                   0.192982          1         0.200000   \n",
       "2789512  38080                   0.318182          1         0.025641   \n",
       "438143   2052                    0.605634          1         0.023256   \n",
       "1661885  4656                    0.491641          1         0.090909   \n",
       "\n",
       "                     UP_average_pos_in_cart  UP_reorder_rate  \\\n",
       "order_id product_id                                            \n",
       "3210471  4642                          16.0         0.055556   \n",
       "3327594  26050                          8.0         0.200000   \n",
       "2789512  38080                          1.0         0.025641   \n",
       "438143   2052                          17.0         0.023256   \n",
       "1661885  4656                           8.0         0.090909   \n",
       "\n",
       "                     UP_orders_since_last  UP_delta_hour_vs_last  real_y  \\\n",
       "order_id product_id                                                        \n",
       "3210471  4642                           6                      5       0   \n",
       "3327594  26050                          4                      1       0   \n",
       "2789512  38080                         26                      2       0   \n",
       "438143   2052                          41                      0       0   \n",
       "1661885  4656                          10                      3       1   \n",
       "\n",
       "                     predicted_y  \n",
       "order_id product_id               \n",
       "3210471  4642           0.041115  \n",
       "3327594  26050          0.031021  \n",
       "2789512  38080          0.006601  \n",
       "438143   2052           0.005740  \n",
       "1661885  4656           0.030811  \n",
       "\n",
       "[5 rows x 21 columns]"
      ]
     },
     "execution_count": 122,
     "metadata": {},
     "output_type": "execute_result"
    }
   ],
   "source": [
    "validation.head()"
   ]
  },
  {
   "cell_type": "code",
   "execution_count": 123,
   "metadata": {},
   "outputs": [
    {
     "data": {
      "text/plain": [
       "real_y\n",
       "0    0.078247\n",
       "1    0.276958\n",
       "Name: predicted_y, dtype: float64"
      ]
     },
     "execution_count": 123,
     "metadata": {},
     "output_type": "execute_result"
    }
   ],
   "source": [
    "# 아래와 같이 계산하면 Threshold 값을 어느 정도로 잡아야 할지 파악할 수 있을지도 모른다. \n",
    "validation.groupby('real_y')['predicted_y'].mean()"
   ]
  },
  {
   "cell_type": "markdown",
   "metadata": {},
   "source": [
    "## Validation 성능을 확인\n",
    " * #### Validation에서 중요한 포인트들이 있다.\n",
    " * #### 일단 Cross_Validation Method를 사용하지 않은 이유는, 모델의 예측값은 확률값으로 나오는 반면, 실제 y값은 binary라는 점 때문이다. \n",
    " * #### Validation을 하려면 결국 Threshold값을 찾고, 예측 y값을 binrary로 변환해 준 다음에 비교를 해야 하는데, 이렇게 되면 Threshold의 Simulation이 불가능해진다.\n",
    " * #### 따라서 Train, Validation Set을 Random하게 나누어서 진행하는 방식을 선택했다."
   ]
  },
  {
   "cell_type": "code",
   "execution_count": null,
   "metadata": {
    "collapsed": true
   },
   "outputs": [],
   "source": [
    "# 이번 대회에서는 F1 Score로 순위를 매긴다\n",
    "# F1 = 2 * (precision * recall) / (precision + recall)\n",
    "from sklearn.metrics import f1_score"
   ]
  },
  {
   "cell_type": "code",
   "execution_count": null,
   "metadata": {
    "collapsed": true
   },
   "outputs": [],
   "source": [
    "for thres in [0.16, 0.20, 0.24, 0.28, 0.32, 0.36]:\n",
    "    new_col = 'thres_' + str(thres)\n",
    "    validation[new_col] = (validation['predicted_y'] > threshold).astype(np.int16)\n",
    "    print (\"Threshold: \", new_col, f1_score(y_true = validation.real_y, y_pred = validation[new_col]))\n",
    "    "
   ]
  },
  {
   "cell_type": "code",
   "execution_count": 124,
   "metadata": {
    "collapsed": true
   },
   "outputs": [],
   "source": [
    "# #위에서 나온 값을 확인해보니 Threshold값을 0.28정도로 잡는 것이 무난해 보인다.\n",
    "# threshold = 0.27\n",
    "# validation['predicted_y_t0.27'] = (validation['predicted_y'] > threshold).astype(np.int16)"
   ]
  },
  {
   "cell_type": "code",
   "execution_count": 125,
   "metadata": {},
   "outputs": [
    {
     "data": {
      "text/html": [
       "<div>\n",
       "<style>\n",
       "    .dataframe thead tr:only-child th {\n",
       "        text-align: right;\n",
       "    }\n",
       "\n",
       "    .dataframe thead th {\n",
       "        text-align: left;\n",
       "    }\n",
       "\n",
       "    .dataframe tbody tr th {\n",
       "        vertical-align: top;\n",
       "    }\n",
       "</style>\n",
       "<table border=\"1\" class=\"dataframe\">\n",
       "  <thead>\n",
       "    <tr style=\"text-align: right;\">\n",
       "      <th></th>\n",
       "      <th></th>\n",
       "      <th>user_total_orders</th>\n",
       "      <th>user_total_items</th>\n",
       "      <th>total_distinct_items</th>\n",
       "      <th>user_average_days_between_orders</th>\n",
       "      <th>user_average_basket</th>\n",
       "      <th>order_hour_of_day</th>\n",
       "      <th>days_since_prior_order</th>\n",
       "      <th>days_since_ratio</th>\n",
       "      <th>aisle_id</th>\n",
       "      <th>department_id</th>\n",
       "      <th>...</th>\n",
       "      <th>product_reorder_rate</th>\n",
       "      <th>UP_orders</th>\n",
       "      <th>UP_orders_ratio</th>\n",
       "      <th>UP_average_pos_in_cart</th>\n",
       "      <th>UP_reorder_rate</th>\n",
       "      <th>UP_orders_since_last</th>\n",
       "      <th>UP_delta_hour_vs_last</th>\n",
       "      <th>real_y</th>\n",
       "      <th>predicted_y</th>\n",
       "      <th>predicted_y_t0.27</th>\n",
       "    </tr>\n",
       "    <tr>\n",
       "      <th>order_id</th>\n",
       "      <th>product_id</th>\n",
       "      <th></th>\n",
       "      <th></th>\n",
       "      <th></th>\n",
       "      <th></th>\n",
       "      <th></th>\n",
       "      <th></th>\n",
       "      <th></th>\n",
       "      <th></th>\n",
       "      <th></th>\n",
       "      <th></th>\n",
       "      <th></th>\n",
       "      <th></th>\n",
       "      <th></th>\n",
       "      <th></th>\n",
       "      <th></th>\n",
       "      <th></th>\n",
       "      <th></th>\n",
       "      <th></th>\n",
       "      <th></th>\n",
       "      <th></th>\n",
       "      <th></th>\n",
       "    </tr>\n",
       "  </thead>\n",
       "  <tbody>\n",
       "    <tr>\n",
       "      <th>3210471</th>\n",
       "      <th>4642</th>\n",
       "      <td>18</td>\n",
       "      <td>148</td>\n",
       "      <td>57</td>\n",
       "      <td>5.882353</td>\n",
       "      <td>8.222222</td>\n",
       "      <td>23</td>\n",
       "      <td>5.0</td>\n",
       "      <td>0.850000</td>\n",
       "      <td>61</td>\n",
       "      <td>19</td>\n",
       "      <td>...</td>\n",
       "      <td>0.669725</td>\n",
       "      <td>1</td>\n",
       "      <td>0.055556</td>\n",
       "      <td>16.0</td>\n",
       "      <td>0.055556</td>\n",
       "      <td>6</td>\n",
       "      <td>5</td>\n",
       "      <td>0</td>\n",
       "      <td>0.041115</td>\n",
       "      <td>0</td>\n",
       "    </tr>\n",
       "    <tr>\n",
       "      <th>3327594</th>\n",
       "      <th>26050</th>\n",
       "      <td>5</td>\n",
       "      <td>68</td>\n",
       "      <td>43</td>\n",
       "      <td>18.750000</td>\n",
       "      <td>13.600000</td>\n",
       "      <td>18</td>\n",
       "      <td>30.0</td>\n",
       "      <td>1.600000</td>\n",
       "      <td>5</td>\n",
       "      <td>13</td>\n",
       "      <td>...</td>\n",
       "      <td>0.192982</td>\n",
       "      <td>1</td>\n",
       "      <td>0.200000</td>\n",
       "      <td>8.0</td>\n",
       "      <td>0.200000</td>\n",
       "      <td>4</td>\n",
       "      <td>1</td>\n",
       "      <td>0</td>\n",
       "      <td>0.031021</td>\n",
       "      <td>0</td>\n",
       "    </tr>\n",
       "    <tr>\n",
       "      <th>2789512</th>\n",
       "      <th>38080</th>\n",
       "      <td>39</td>\n",
       "      <td>185</td>\n",
       "      <td>70</td>\n",
       "      <td>9.447369</td>\n",
       "      <td>4.743590</td>\n",
       "      <td>20</td>\n",
       "      <td>2.0</td>\n",
       "      <td>0.211699</td>\n",
       "      <td>17</td>\n",
       "      <td>13</td>\n",
       "      <td>...</td>\n",
       "      <td>0.318182</td>\n",
       "      <td>1</td>\n",
       "      <td>0.025641</td>\n",
       "      <td>1.0</td>\n",
       "      <td>0.025641</td>\n",
       "      <td>26</td>\n",
       "      <td>2</td>\n",
       "      <td>0</td>\n",
       "      <td>0.006601</td>\n",
       "      <td>0</td>\n",
       "    </tr>\n",
       "    <tr>\n",
       "      <th>438143</th>\n",
       "      <th>2052</th>\n",
       "      <td>43</td>\n",
       "      <td>900</td>\n",
       "      <td>223</td>\n",
       "      <td>8.547619</td>\n",
       "      <td>20.930233</td>\n",
       "      <td>12</td>\n",
       "      <td>9.0</td>\n",
       "      <td>1.052925</td>\n",
       "      <td>107</td>\n",
       "      <td>19</td>\n",
       "      <td>...</td>\n",
       "      <td>0.605634</td>\n",
       "      <td>1</td>\n",
       "      <td>0.023256</td>\n",
       "      <td>17.0</td>\n",
       "      <td>0.023256</td>\n",
       "      <td>41</td>\n",
       "      <td>0</td>\n",
       "      <td>0</td>\n",
       "      <td>0.005740</td>\n",
       "      <td>0</td>\n",
       "    </tr>\n",
       "    <tr>\n",
       "      <th>1661885</th>\n",
       "      <th>4656</th>\n",
       "      <td>11</td>\n",
       "      <td>144</td>\n",
       "      <td>88</td>\n",
       "      <td>18.600000</td>\n",
       "      <td>13.090909</td>\n",
       "      <td>16</td>\n",
       "      <td>8.0</td>\n",
       "      <td>0.430108</td>\n",
       "      <td>88</td>\n",
       "      <td>13</td>\n",
       "      <td>...</td>\n",
       "      <td>0.491641</td>\n",
       "      <td>1</td>\n",
       "      <td>0.090909</td>\n",
       "      <td>8.0</td>\n",
       "      <td>0.090909</td>\n",
       "      <td>10</td>\n",
       "      <td>3</td>\n",
       "      <td>1</td>\n",
       "      <td>0.030811</td>\n",
       "      <td>0</td>\n",
       "    </tr>\n",
       "  </tbody>\n",
       "</table>\n",
       "<p>5 rows × 22 columns</p>\n",
       "</div>"
      ],
      "text/plain": [
       "                     user_total_orders  user_total_items  \\\n",
       "order_id product_id                                        \n",
       "3210471  4642                       18               148   \n",
       "3327594  26050                       5                68   \n",
       "2789512  38080                      39               185   \n",
       "438143   2052                       43               900   \n",
       "1661885  4656                       11               144   \n",
       "\n",
       "                     total_distinct_items  user_average_days_between_orders  \\\n",
       "order_id product_id                                                           \n",
       "3210471  4642                          57                          5.882353   \n",
       "3327594  26050                         43                         18.750000   \n",
       "2789512  38080                         70                          9.447369   \n",
       "438143   2052                         223                          8.547619   \n",
       "1661885  4656                          88                         18.600000   \n",
       "\n",
       "                     user_average_basket  order_hour_of_day  \\\n",
       "order_id product_id                                           \n",
       "3210471  4642                   8.222222                 23   \n",
       "3327594  26050                 13.600000                 18   \n",
       "2789512  38080                  4.743590                 20   \n",
       "438143   2052                  20.930233                 12   \n",
       "1661885  4656                  13.090909                 16   \n",
       "\n",
       "                     days_since_prior_order  days_since_ratio  aisle_id  \\\n",
       "order_id product_id                                                       \n",
       "3210471  4642                           5.0          0.850000        61   \n",
       "3327594  26050                         30.0          1.600000         5   \n",
       "2789512  38080                          2.0          0.211699        17   \n",
       "438143   2052                           9.0          1.052925       107   \n",
       "1661885  4656                           8.0          0.430108        88   \n",
       "\n",
       "                     department_id        ...          product_reorder_rate  \\\n",
       "order_id product_id                       ...                                 \n",
       "3210471  4642                   19        ...                      0.669725   \n",
       "3327594  26050                  13        ...                      0.192982   \n",
       "2789512  38080                  13        ...                      0.318182   \n",
       "438143   2052                   19        ...                      0.605634   \n",
       "1661885  4656                   13        ...                      0.491641   \n",
       "\n",
       "                     UP_orders  UP_orders_ratio  UP_average_pos_in_cart  \\\n",
       "order_id product_id                                                       \n",
       "3210471  4642                1         0.055556                    16.0   \n",
       "3327594  26050               1         0.200000                     8.0   \n",
       "2789512  38080               1         0.025641                     1.0   \n",
       "438143   2052                1         0.023256                    17.0   \n",
       "1661885  4656                1         0.090909                     8.0   \n",
       "\n",
       "                     UP_reorder_rate  UP_orders_since_last  \\\n",
       "order_id product_id                                          \n",
       "3210471  4642               0.055556                     6   \n",
       "3327594  26050              0.200000                     4   \n",
       "2789512  38080              0.025641                    26   \n",
       "438143   2052               0.023256                    41   \n",
       "1661885  4656               0.090909                    10   \n",
       "\n",
       "                     UP_delta_hour_vs_last  real_y  predicted_y  \\\n",
       "order_id product_id                                               \n",
       "3210471  4642                            5       0     0.041115   \n",
       "3327594  26050                           1       0     0.031021   \n",
       "2789512  38080                           2       0     0.006601   \n",
       "438143   2052                            0       0     0.005740   \n",
       "1661885  4656                            3       1     0.030811   \n",
       "\n",
       "                     predicted_y_t0.27  \n",
       "order_id product_id                     \n",
       "3210471  4642                        0  \n",
       "3327594  26050                       0  \n",
       "2789512  38080                       0  \n",
       "438143   2052                        0  \n",
       "1661885  4656                        0  \n",
       "\n",
       "[5 rows x 22 columns]"
      ]
     },
     "execution_count": 125,
     "metadata": {},
     "output_type": "execute_result"
    }
   ],
   "source": [
    "# validation.head()"
   ]
  },
  {
   "cell_type": "code",
   "execution_count": 126,
   "metadata": {},
   "outputs": [
    {
     "data": {
      "text/plain": [
       "0.43217172005227378"
      ]
     },
     "execution_count": 126,
     "metadata": {},
     "output_type": "execute_result"
    }
   ],
   "source": [
    "# f1_score(y_true = validation.real_y, y_pred = validation['predicted_y_t0.27'])"
   ]
  },
  {
   "cell_type": "code",
   "execution_count": 127,
   "metadata": {
    "collapsed": true
   },
   "outputs": [],
   "source": [
    "# threshold = 0.33\n",
    "# validation['predicted_y_t0.33'] = (validation['predicted_y'] > threshold).astype(np.int16)"
   ]
  },
  {
   "cell_type": "code",
   "execution_count": 128,
   "metadata": {},
   "outputs": [
    {
     "data": {
      "text/plain": [
       "0.40496232668555115"
      ]
     },
     "execution_count": 128,
     "metadata": {},
     "output_type": "execute_result"
    }
   ],
   "source": [
    "# f1_score(y_true = validation.real_y, y_pred = validation['predicted_y_t0.33'] )"
   ]
  },
  {
   "cell_type": "code",
   "execution_count": 129,
   "metadata": {
    "collapsed": true
   },
   "outputs": [],
   "source": [
    "# threshold = 0.20\n",
    "# validation['predicted_y_t0.20'] = (validation['predicted_y'] > threshold).astype(np.int16)"
   ]
  },
  {
   "cell_type": "code",
   "execution_count": 130,
   "metadata": {},
   "outputs": [
    {
     "data": {
      "text/plain": [
       "0.43901319059987581"
      ]
     },
     "execution_count": 130,
     "metadata": {},
     "output_type": "execute_result"
    }
   ],
   "source": [
    "# f1_score(y_true = validation.real_y, y_pred = validation['predicted_y_t0.20'])"
   ]
  },
  {
   "cell_type": "code",
   "execution_count": 131,
   "metadata": {
    "collapsed": true
   },
   "outputs": [],
   "source": [
    "# threshold = 0.18\n",
    "# validation['predicted_y_t0.18'] = (validation['predicted_y'] > threshold).astype(np.int16)"
   ]
  },
  {
   "cell_type": "code",
   "execution_count": 132,
   "metadata": {},
   "outputs": [
    {
     "data": {
      "text/plain": [
       "0.43517986970418626"
      ]
     },
     "execution_count": 132,
     "metadata": {},
     "output_type": "execute_result"
    }
   ],
   "source": [
    "# f1_score(y_true = validation.real_y, y_pred = validation['predicted_y_t0.18'])"
   ]
  },
  {
   "cell_type": "markdown",
   "metadata": {},
   "source": [
    "# XGBM"
   ]
  },
  {
   "cell_type": "code",
   "execution_count": 148,
   "metadata": {
    "collapsed": true
   },
   "outputs": [],
   "source": [
    "model = Train(train_data1)"
   ]
  },
  {
   "cell_type": "code",
   "execution_count": 149,
   "metadata": {
    "collapsed": true
   },
   "outputs": [],
   "source": [
    "model.split()"
   ]
  },
  {
   "cell_type": "code",
   "execution_count": 150,
   "metadata": {},
   "outputs": [
    {
     "name": "stdout",
     "output_type": "stream",
     "text": [
      "[0]\ttrain-logloss:0.62524\n",
      "[10]\ttrain-logloss:0.332632\n",
      "[20]\ttrain-logloss:0.263103\n",
      "[30]\ttrain-logloss:0.243491\n",
      "[40]\ttrain-logloss:0.236734\n",
      "[50]\ttrain-logloss:0.233516\n",
      "[60]\ttrain-logloss:0.231183\n",
      "[70]\ttrain-logloss:0.229644\n",
      "[79]\ttrain-logloss:0.228204\n"
     ]
    }
   ],
   "source": [
    "model.XGB()"
   ]
  },
  {
   "cell_type": "code",
   "execution_count": 152,
   "metadata": {
    "collapsed": true
   },
   "outputs": [],
   "source": [
    "val_preds = model.bst.predict(model.x_valDM)"
   ]
  },
  {
   "cell_type": "code",
   "execution_count": 154,
   "metadata": {
    "collapsed": true
   },
   "outputs": [],
   "source": [
    "validation = pd.DataFrame(model.x_val)\n",
    "validation['real_y'] = model.y_val\n",
    "validation['predicted_y'] = val_preds"
   ]
  },
  {
   "cell_type": "code",
   "execution_count": 155,
   "metadata": {},
   "outputs": [
    {
     "data": {
      "text/plain": [
       "real_y\n",
       "0    0.077685\n",
       "1    0.281903\n",
       "Name: predicted_y, dtype: float32"
      ]
     },
     "execution_count": 155,
     "metadata": {},
     "output_type": "execute_result"
    }
   ],
   "source": [
    "validation.groupby('real_y')['predicted_y'].mean()"
   ]
  },
  {
   "cell_type": "code",
   "execution_count": 156,
   "metadata": {
    "collapsed": true
   },
   "outputs": [],
   "source": [
    "threshold = 0.20\n",
    "validation['predicted_y_t0.20'] = (validation['predicted_y'] > threshold).astype(np.int16)"
   ]
  },
  {
   "cell_type": "code",
   "execution_count": 157,
   "metadata": {},
   "outputs": [
    {
     "data": {
      "text/plain": [
       "0.4425134329310097"
      ]
     },
     "execution_count": 157,
     "metadata": {},
     "output_type": "execute_result"
    }
   ],
   "source": [
    "f1_score(y_true = validation.real_y, y_pred = validation['predicted_y_t0.20'])"
   ]
  },
  {
   "cell_type": "code",
   "execution_count": 158,
   "metadata": {
    "collapsed": true
   },
   "outputs": [],
   "source": [
    "threshold = 0.25\n",
    "validation['predicted_y_t0.25'] = (validation['predicted_y'] > threshold).astype(np.int16)"
   ]
  },
  {
   "cell_type": "code",
   "execution_count": 159,
   "metadata": {},
   "outputs": [
    {
     "data": {
      "text/plain": [
       "0.44129469600414573"
      ]
     },
     "execution_count": 159,
     "metadata": {},
     "output_type": "execute_result"
    }
   ],
   "source": [
    "f1_score(y_true = validation.real_y, y_pred = validation['predicted_y_t0.25'])"
   ]
  },
  {
   "cell_type": "code",
   "execution_count": 160,
   "metadata": {
    "collapsed": true
   },
   "outputs": [],
   "source": [
    "threshold = 0.18\n",
    "validation['predicted_y_t0.18'] = (validation['predicted_y'] > threshold).astype(np.int16)"
   ]
  },
  {
   "cell_type": "code",
   "execution_count": 161,
   "metadata": {},
   "outputs": [
    {
     "data": {
      "text/plain": [
       "0.43755388070580487"
      ]
     },
     "execution_count": 161,
     "metadata": {},
     "output_type": "execute_result"
    }
   ],
   "source": [
    "f1_score(y_true = validation.real_y, y_pred = validation['predicted_y_t0.18'])"
   ]
  },
  {
   "cell_type": "code",
   "execution_count": null,
   "metadata": {
    "collapsed": true
   },
   "outputs": [],
   "source": []
  },
  {
   "cell_type": "markdown",
   "metadata": {},
   "source": [
    "# SVM"
   ]
  },
  {
   "cell_type": "code",
   "execution_count": 30,
   "metadata": {
    "collapsed": true
   },
   "outputs": [],
   "source": [
    "model = Train(train_data1)"
   ]
  },
  {
   "cell_type": "code",
   "execution_count": 31,
   "metadata": {
    "collapsed": true
   },
   "outputs": [],
   "source": [
    "model.split()"
   ]
  },
  {
   "cell_type": "code",
   "execution_count": null,
   "metadata": {
    "collapsed": true
   },
   "outputs": [],
   "source": [
    "model.SVM() "
   ]
  },
  {
   "cell_type": "code",
   "execution_count": null,
   "metadata": {
    "collapsed": true
   },
   "outputs": [],
   "source": [
    "val_preds = model.bst.predict(model.x_val)"
   ]
  },
  {
   "cell_type": "code",
   "execution_count": null,
   "metadata": {
    "collapsed": true
   },
   "outputs": [],
   "source": [
    "validation = pd.DataFrame(model.x_val)\n",
    "validation['real_y'] = model.y_val\n",
    "validation['predicted_y'] = val_preds"
   ]
  },
  {
   "cell_type": "code",
   "execution_count": null,
   "metadata": {
    "collapsed": true
   },
   "outputs": [],
   "source": [
    "validation.groupby('real_y')['predicted_y'].mean()"
   ]
  },
  {
   "cell_type": "code",
   "execution_count": null,
   "metadata": {
    "collapsed": true
   },
   "outputs": [],
   "source": [
    "threshold = 0.33\n",
    "validation['predicted_y_t0.33'] = (validation['predicted_y'] > threshold).astype(np.int16)"
   ]
  },
  {
   "cell_type": "code",
   "execution_count": null,
   "metadata": {
    "collapsed": true
   },
   "outputs": [],
   "source": [
    "f1_score(y_true = validation.real_y, y_pred = validation['predicted_y_t0.27'])"
   ]
  },
  {
   "cell_type": "code",
   "execution_count": null,
   "metadata": {
    "collapsed": true
   },
   "outputs": [],
   "source": []
  },
  {
   "cell_type": "markdown",
   "metadata": {},
   "source": [
    "# Random Forest"
   ]
  },
  {
   "cell_type": "code",
   "execution_count": 166,
   "metadata": {
    "collapsed": true
   },
   "outputs": [],
   "source": [
    "model = Train(train_data1)"
   ]
  },
  {
   "cell_type": "code",
   "execution_count": 167,
   "metadata": {
    "collapsed": true
   },
   "outputs": [],
   "source": [
    "model.split()"
   ]
  },
  {
   "cell_type": "code",
   "execution_count": 169,
   "metadata": {
    "collapsed": true
   },
   "outputs": [],
   "source": [
    "# model.RandomForest()"
   ]
  },
  {
   "cell_type": "code",
   "execution_count": null,
   "metadata": {
    "collapsed": true
   },
   "outputs": [],
   "source": [
    "val_preds = model.bst.predict(model.x_val)"
   ]
  },
  {
   "cell_type": "code",
   "execution_count": null,
   "metadata": {
    "collapsed": true
   },
   "outputs": [],
   "source": [
    "validation = pd.DataFrame(model.x_val)\n",
    "validation['real_y'] = model.y_val\n",
    "validation['predicted_y'] = val_preds"
   ]
  },
  {
   "cell_type": "code",
   "execution_count": null,
   "metadata": {
    "collapsed": true
   },
   "outputs": [],
   "source": [
    "validation.groupby('real_y')['predicted_y'].mean()"
   ]
  },
  {
   "cell_type": "code",
   "execution_count": null,
   "metadata": {
    "collapsed": true
   },
   "outputs": [],
   "source": [
    "threshold = 0.33\n",
    "validation['predicted_y_t0.33'] = (validation['predicted_y'] > threshold).astype(np.int16)"
   ]
  },
  {
   "cell_type": "code",
   "execution_count": null,
   "metadata": {
    "collapsed": true
   },
   "outputs": [],
   "source": [
    "f1_score(y_true = validation.real_y, y_pred = validation['predicted_y_t0.27'])"
   ]
  },
  {
   "cell_type": "code",
   "execution_count": null,
   "metadata": {
    "collapsed": true
   },
   "outputs": [],
   "source": []
  },
  {
   "cell_type": "markdown",
   "metadata": {},
   "source": [
    "# 분류모델(lgbm, xgbm...)을 하나 선택한 후 Test Set을 만든다"
   ]
  },
  {
   "cell_type": "code",
   "execution_count": 133,
   "metadata": {
    "collapsed": true
   },
   "outputs": [],
   "source": [
    "test_data = pd.read_csv('C:\\\\Users\\\\ACEIT\\\\Documents\\\\DSS\\\\Project\\\\Instacart\\\\lgbexample_testX.csv',\n",
    "                         dtype = {\n",
    "                             'order_id': np.int32,\n",
    "                             'product_id': np.uint16,\n",
    "                             'user_total_orders': np.uint16,\n",
    "                             'user_total_items' : np.uint16,\n",
    "                             'total_distinct_items' : np.uint16,\n",
    "                             'user_average_days_orders' : np.float16,\n",
    "                             'user_average_basket': np.float32,\n",
    "                             'order_hour_of_day' : np.uint16,\n",
    "                             'days_since_prior_order': np.float16,\n",
    "                             'product_orders': np.int32,\n",
    "                             'product_reorders': np.int32,\n",
    "                             'UP_orders': np.uint16,\n",
    "                             'UP_orders_since_last': np.int16,\n",
    "                             'UP_delta_hour_vs_last': np.int16,        \n",
    "                         })"
   ]
  },
  {
   "cell_type": "code",
   "execution_count": 134,
   "metadata": {},
   "outputs": [
    {
     "data": {
      "text/plain": [
       "(4833292, 22)"
      ]
     },
     "execution_count": 134,
     "metadata": {},
     "output_type": "execute_result"
    }
   ],
   "source": [
    "test_data.shape"
   ]
  },
  {
   "cell_type": "code",
   "execution_count": 135,
   "metadata": {
    "collapsed": true
   },
   "outputs": [],
   "source": [
    "test_data.drop('Unnamed: 0', axis=1, inplace=True)"
   ]
  },
  {
   "cell_type": "code",
   "execution_count": 136,
   "metadata": {
    "collapsed": true
   },
   "outputs": [],
   "source": [
    "test_data.set_index(['order_id', 'product_id'], inplace=True)"
   ]
  },
  {
   "cell_type": "code",
   "execution_count": 137,
   "metadata": {},
   "outputs": [
    {
     "data": {
      "text/html": [
       "<div>\n",
       "<style>\n",
       "    .dataframe thead tr:only-child th {\n",
       "        text-align: right;\n",
       "    }\n",
       "\n",
       "    .dataframe thead th {\n",
       "        text-align: left;\n",
       "    }\n",
       "\n",
       "    .dataframe tbody tr th {\n",
       "        vertical-align: top;\n",
       "    }\n",
       "</style>\n",
       "<table border=\"1\" class=\"dataframe\">\n",
       "  <thead>\n",
       "    <tr style=\"text-align: right;\">\n",
       "      <th></th>\n",
       "      <th></th>\n",
       "      <th>user_total_orders</th>\n",
       "      <th>user_total_items</th>\n",
       "      <th>total_distinct_items</th>\n",
       "      <th>user_average_days_between_orders</th>\n",
       "      <th>user_average_basket</th>\n",
       "      <th>order_hour_of_day</th>\n",
       "      <th>days_since_prior_order</th>\n",
       "      <th>days_since_ratio</th>\n",
       "      <th>aisle_id</th>\n",
       "      <th>department_id</th>\n",
       "      <th>product_orders</th>\n",
       "      <th>product_reorders</th>\n",
       "      <th>product_reorder_rate</th>\n",
       "      <th>UP_orders</th>\n",
       "      <th>UP_orders_ratio</th>\n",
       "      <th>UP_average_pos_in_cart</th>\n",
       "      <th>UP_reorder_rate</th>\n",
       "      <th>UP_orders_since_last</th>\n",
       "      <th>UP_delta_hour_vs_last</th>\n",
       "    </tr>\n",
       "    <tr>\n",
       "      <th>order_id</th>\n",
       "      <th>product_id</th>\n",
       "      <th></th>\n",
       "      <th></th>\n",
       "      <th></th>\n",
       "      <th></th>\n",
       "      <th></th>\n",
       "      <th></th>\n",
       "      <th></th>\n",
       "      <th></th>\n",
       "      <th></th>\n",
       "      <th></th>\n",
       "      <th></th>\n",
       "      <th></th>\n",
       "      <th></th>\n",
       "      <th></th>\n",
       "      <th></th>\n",
       "      <th></th>\n",
       "      <th></th>\n",
       "      <th></th>\n",
       "      <th></th>\n",
       "    </tr>\n",
       "  </thead>\n",
       "  <tbody>\n",
       "    <tr>\n",
       "      <th rowspan=\"5\" valign=\"top\">2774568</th>\n",
       "      <th>17668</th>\n",
       "      <td>13</td>\n",
       "      <td>88</td>\n",
       "      <td>33</td>\n",
       "      <td>12.0</td>\n",
       "      <td>6.769231</td>\n",
       "      <td>15</td>\n",
       "      <td>11.0</td>\n",
       "      <td>0.916667</td>\n",
       "      <td>91</td>\n",
       "      <td>16</td>\n",
       "      <td>2110</td>\n",
       "      <td>1220</td>\n",
       "      <td>0.578199</td>\n",
       "      <td>5</td>\n",
       "      <td>0.384615</td>\n",
       "      <td>3.60</td>\n",
       "      <td>0.384615</td>\n",
       "      <td>2</td>\n",
       "      <td>3</td>\n",
       "    </tr>\n",
       "    <tr>\n",
       "      <th>44683</th>\n",
       "      <td>13</td>\n",
       "      <td>88</td>\n",
       "      <td>33</td>\n",
       "      <td>12.0</td>\n",
       "      <td>6.769231</td>\n",
       "      <td>15</td>\n",
       "      <td>11.0</td>\n",
       "      <td>0.916667</td>\n",
       "      <td>83</td>\n",
       "      <td>4</td>\n",
       "      <td>22275</td>\n",
       "      <td>11981</td>\n",
       "      <td>0.537868</td>\n",
       "      <td>2</td>\n",
       "      <td>0.153846</td>\n",
       "      <td>9.50</td>\n",
       "      <td>0.153846</td>\n",
       "      <td>7</td>\n",
       "      <td>1</td>\n",
       "    </tr>\n",
       "    <tr>\n",
       "      <th>48523</th>\n",
       "      <td>13</td>\n",
       "      <td>88</td>\n",
       "      <td>33</td>\n",
       "      <td>12.0</td>\n",
       "      <td>6.769231</td>\n",
       "      <td>15</td>\n",
       "      <td>11.0</td>\n",
       "      <td>0.916667</td>\n",
       "      <td>37</td>\n",
       "      <td>1</td>\n",
       "      <td>5129</td>\n",
       "      <td>2376</td>\n",
       "      <td>0.463248</td>\n",
       "      <td>2</td>\n",
       "      <td>0.153846</td>\n",
       "      <td>6.50</td>\n",
       "      <td>0.153846</td>\n",
       "      <td>4</td>\n",
       "      <td>1</td>\n",
       "    </tr>\n",
       "    <tr>\n",
       "      <th>21903</th>\n",
       "      <td>13</td>\n",
       "      <td>88</td>\n",
       "      <td>33</td>\n",
       "      <td>12.0</td>\n",
       "      <td>6.769231</td>\n",
       "      <td>15</td>\n",
       "      <td>11.0</td>\n",
       "      <td>0.916667</td>\n",
       "      <td>123</td>\n",
       "      <td>4</td>\n",
       "      <td>241921</td>\n",
       "      <td>186884</td>\n",
       "      <td>0.772500</td>\n",
       "      <td>8</td>\n",
       "      <td>0.615385</td>\n",
       "      <td>4.25</td>\n",
       "      <td>0.615385</td>\n",
       "      <td>1</td>\n",
       "      <td>0</td>\n",
       "    </tr>\n",
       "    <tr>\n",
       "      <th>14992</th>\n",
       "      <td>13</td>\n",
       "      <td>88</td>\n",
       "      <td>33</td>\n",
       "      <td>12.0</td>\n",
       "      <td>6.769231</td>\n",
       "      <td>15</td>\n",
       "      <td>11.0</td>\n",
       "      <td>0.916667</td>\n",
       "      <td>83</td>\n",
       "      <td>4</td>\n",
       "      <td>29069</td>\n",
       "      <td>16942</td>\n",
       "      <td>0.582820</td>\n",
       "      <td>2</td>\n",
       "      <td>0.153846</td>\n",
       "      <td>7.00</td>\n",
       "      <td>0.153846</td>\n",
       "      <td>6</td>\n",
       "      <td>0</td>\n",
       "    </tr>\n",
       "  </tbody>\n",
       "</table>\n",
       "</div>"
      ],
      "text/plain": [
       "                     user_total_orders  user_total_items  \\\n",
       "order_id product_id                                        \n",
       "2774568  17668                      13                88   \n",
       "         44683                      13                88   \n",
       "         48523                      13                88   \n",
       "         21903                      13                88   \n",
       "         14992                      13                88   \n",
       "\n",
       "                     total_distinct_items  user_average_days_between_orders  \\\n",
       "order_id product_id                                                           \n",
       "2774568  17668                         33                              12.0   \n",
       "         44683                         33                              12.0   \n",
       "         48523                         33                              12.0   \n",
       "         21903                         33                              12.0   \n",
       "         14992                         33                              12.0   \n",
       "\n",
       "                     user_average_basket  order_hour_of_day  \\\n",
       "order_id product_id                                           \n",
       "2774568  17668                  6.769231                 15   \n",
       "         44683                  6.769231                 15   \n",
       "         48523                  6.769231                 15   \n",
       "         21903                  6.769231                 15   \n",
       "         14992                  6.769231                 15   \n",
       "\n",
       "                     days_since_prior_order  days_since_ratio  aisle_id  \\\n",
       "order_id product_id                                                       \n",
       "2774568  17668                         11.0          0.916667        91   \n",
       "         44683                         11.0          0.916667        83   \n",
       "         48523                         11.0          0.916667        37   \n",
       "         21903                         11.0          0.916667       123   \n",
       "         14992                         11.0          0.916667        83   \n",
       "\n",
       "                     department_id  product_orders  product_reorders  \\\n",
       "order_id product_id                                                    \n",
       "2774568  17668                  16            2110              1220   \n",
       "         44683                   4           22275             11981   \n",
       "         48523                   1            5129              2376   \n",
       "         21903                   4          241921            186884   \n",
       "         14992                   4           29069             16942   \n",
       "\n",
       "                     product_reorder_rate  UP_orders  UP_orders_ratio  \\\n",
       "order_id product_id                                                     \n",
       "2774568  17668                   0.578199          5         0.384615   \n",
       "         44683                   0.537868          2         0.153846   \n",
       "         48523                   0.463248          2         0.153846   \n",
       "         21903                   0.772500          8         0.615385   \n",
       "         14992                   0.582820          2         0.153846   \n",
       "\n",
       "                     UP_average_pos_in_cart  UP_reorder_rate  \\\n",
       "order_id product_id                                            \n",
       "2774568  17668                         3.60         0.384615   \n",
       "         44683                         9.50         0.153846   \n",
       "         48523                         6.50         0.153846   \n",
       "         21903                         4.25         0.615385   \n",
       "         14992                         7.00         0.153846   \n",
       "\n",
       "                     UP_orders_since_last  UP_delta_hour_vs_last  \n",
       "order_id product_id                                               \n",
       "2774568  17668                          2                      3  \n",
       "         44683                          7                      1  \n",
       "         48523                          4                      1  \n",
       "         21903                          1                      0  \n",
       "         14992                          6                      0  "
      ]
     },
     "execution_count": 137,
     "metadata": {},
     "output_type": "execute_result"
    }
   ],
   "source": [
    "test_data.head()"
   ]
  },
  {
   "cell_type": "code",
   "execution_count": 138,
   "metadata": {
    "collapsed": true
   },
   "outputs": [],
   "source": [
    "test_data_D = xgb.DMatrix(test_data)"
   ]
  },
  {
   "cell_type": "code",
   "execution_count": 139,
   "metadata": {},
   "outputs": [
    {
     "data": {
      "text/html": [
       "<div>\n",
       "<style>\n",
       "    .dataframe thead tr:only-child th {\n",
       "        text-align: right;\n",
       "    }\n",
       "\n",
       "    .dataframe thead th {\n",
       "        text-align: left;\n",
       "    }\n",
       "\n",
       "    .dataframe tbody tr th {\n",
       "        vertical-align: top;\n",
       "    }\n",
       "</style>\n",
       "<table border=\"1\" class=\"dataframe\">\n",
       "  <thead>\n",
       "    <tr style=\"text-align: right;\">\n",
       "      <th></th>\n",
       "      <th></th>\n",
       "      <th>user_total_orders</th>\n",
       "      <th>user_total_items</th>\n",
       "      <th>total_distinct_items</th>\n",
       "      <th>user_average_days_between_orders</th>\n",
       "      <th>user_average_basket</th>\n",
       "      <th>order_hour_of_day</th>\n",
       "      <th>days_since_prior_order</th>\n",
       "      <th>days_since_ratio</th>\n",
       "      <th>aisle_id</th>\n",
       "      <th>department_id</th>\n",
       "      <th>product_orders</th>\n",
       "      <th>product_reorders</th>\n",
       "      <th>product_reorder_rate</th>\n",
       "      <th>UP_orders</th>\n",
       "      <th>UP_orders_ratio</th>\n",
       "      <th>UP_average_pos_in_cart</th>\n",
       "      <th>UP_reorder_rate</th>\n",
       "      <th>UP_orders_since_last</th>\n",
       "      <th>UP_delta_hour_vs_last</th>\n",
       "      <th>preds</th>\n",
       "    </tr>\n",
       "    <tr>\n",
       "      <th>order_id</th>\n",
       "      <th>product_id</th>\n",
       "      <th></th>\n",
       "      <th></th>\n",
       "      <th></th>\n",
       "      <th></th>\n",
       "      <th></th>\n",
       "      <th></th>\n",
       "      <th></th>\n",
       "      <th></th>\n",
       "      <th></th>\n",
       "      <th></th>\n",
       "      <th></th>\n",
       "      <th></th>\n",
       "      <th></th>\n",
       "      <th></th>\n",
       "      <th></th>\n",
       "      <th></th>\n",
       "      <th></th>\n",
       "      <th></th>\n",
       "      <th></th>\n",
       "      <th></th>\n",
       "    </tr>\n",
       "  </thead>\n",
       "  <tbody>\n",
       "    <tr>\n",
       "      <th rowspan=\"5\" valign=\"top\">2774568</th>\n",
       "      <th>17668</th>\n",
       "      <td>13</td>\n",
       "      <td>88</td>\n",
       "      <td>33</td>\n",
       "      <td>12.0</td>\n",
       "      <td>6.769231</td>\n",
       "      <td>15</td>\n",
       "      <td>11.0</td>\n",
       "      <td>0.916667</td>\n",
       "      <td>91</td>\n",
       "      <td>16</td>\n",
       "      <td>2110</td>\n",
       "      <td>1220</td>\n",
       "      <td>0.578199</td>\n",
       "      <td>5</td>\n",
       "      <td>0.384615</td>\n",
       "      <td>3.60</td>\n",
       "      <td>0.384615</td>\n",
       "      <td>2</td>\n",
       "      <td>3</td>\n",
       "      <td>0.348864</td>\n",
       "    </tr>\n",
       "    <tr>\n",
       "      <th>44683</th>\n",
       "      <td>13</td>\n",
       "      <td>88</td>\n",
       "      <td>33</td>\n",
       "      <td>12.0</td>\n",
       "      <td>6.769231</td>\n",
       "      <td>15</td>\n",
       "      <td>11.0</td>\n",
       "      <td>0.916667</td>\n",
       "      <td>83</td>\n",
       "      <td>4</td>\n",
       "      <td>22275</td>\n",
       "      <td>11981</td>\n",
       "      <td>0.537868</td>\n",
       "      <td>2</td>\n",
       "      <td>0.153846</td>\n",
       "      <td>9.50</td>\n",
       "      <td>0.153846</td>\n",
       "      <td>7</td>\n",
       "      <td>1</td>\n",
       "      <td>0.064248</td>\n",
       "    </tr>\n",
       "    <tr>\n",
       "      <th>48523</th>\n",
       "      <td>13</td>\n",
       "      <td>88</td>\n",
       "      <td>33</td>\n",
       "      <td>12.0</td>\n",
       "      <td>6.769231</td>\n",
       "      <td>15</td>\n",
       "      <td>11.0</td>\n",
       "      <td>0.916667</td>\n",
       "      <td>37</td>\n",
       "      <td>1</td>\n",
       "      <td>5129</td>\n",
       "      <td>2376</td>\n",
       "      <td>0.463248</td>\n",
       "      <td>2</td>\n",
       "      <td>0.153846</td>\n",
       "      <td>6.50</td>\n",
       "      <td>0.153846</td>\n",
       "      <td>4</td>\n",
       "      <td>1</td>\n",
       "      <td>0.094588</td>\n",
       "    </tr>\n",
       "    <tr>\n",
       "      <th>21903</th>\n",
       "      <td>13</td>\n",
       "      <td>88</td>\n",
       "      <td>33</td>\n",
       "      <td>12.0</td>\n",
       "      <td>6.769231</td>\n",
       "      <td>15</td>\n",
       "      <td>11.0</td>\n",
       "      <td>0.916667</td>\n",
       "      <td>123</td>\n",
       "      <td>4</td>\n",
       "      <td>241921</td>\n",
       "      <td>186884</td>\n",
       "      <td>0.772500</td>\n",
       "      <td>8</td>\n",
       "      <td>0.615385</td>\n",
       "      <td>4.25</td>\n",
       "      <td>0.615385</td>\n",
       "      <td>1</td>\n",
       "      <td>0</td>\n",
       "      <td>0.633335</td>\n",
       "    </tr>\n",
       "    <tr>\n",
       "      <th>14992</th>\n",
       "      <td>13</td>\n",
       "      <td>88</td>\n",
       "      <td>33</td>\n",
       "      <td>12.0</td>\n",
       "      <td>6.769231</td>\n",
       "      <td>15</td>\n",
       "      <td>11.0</td>\n",
       "      <td>0.916667</td>\n",
       "      <td>83</td>\n",
       "      <td>4</td>\n",
       "      <td>29069</td>\n",
       "      <td>16942</td>\n",
       "      <td>0.582820</td>\n",
       "      <td>2</td>\n",
       "      <td>0.153846</td>\n",
       "      <td>7.00</td>\n",
       "      <td>0.153846</td>\n",
       "      <td>6</td>\n",
       "      <td>0</td>\n",
       "      <td>0.079577</td>\n",
       "    </tr>\n",
       "  </tbody>\n",
       "</table>\n",
       "</div>"
      ],
      "text/plain": [
       "                     user_total_orders  user_total_items  \\\n",
       "order_id product_id                                        \n",
       "2774568  17668                      13                88   \n",
       "         44683                      13                88   \n",
       "         48523                      13                88   \n",
       "         21903                      13                88   \n",
       "         14992                      13                88   \n",
       "\n",
       "                     total_distinct_items  user_average_days_between_orders  \\\n",
       "order_id product_id                                                           \n",
       "2774568  17668                         33                              12.0   \n",
       "         44683                         33                              12.0   \n",
       "         48523                         33                              12.0   \n",
       "         21903                         33                              12.0   \n",
       "         14992                         33                              12.0   \n",
       "\n",
       "                     user_average_basket  order_hour_of_day  \\\n",
       "order_id product_id                                           \n",
       "2774568  17668                  6.769231                 15   \n",
       "         44683                  6.769231                 15   \n",
       "         48523                  6.769231                 15   \n",
       "         21903                  6.769231                 15   \n",
       "         14992                  6.769231                 15   \n",
       "\n",
       "                     days_since_prior_order  days_since_ratio  aisle_id  \\\n",
       "order_id product_id                                                       \n",
       "2774568  17668                         11.0          0.916667        91   \n",
       "         44683                         11.0          0.916667        83   \n",
       "         48523                         11.0          0.916667        37   \n",
       "         21903                         11.0          0.916667       123   \n",
       "         14992                         11.0          0.916667        83   \n",
       "\n",
       "                     department_id  product_orders  product_reorders  \\\n",
       "order_id product_id                                                    \n",
       "2774568  17668                  16            2110              1220   \n",
       "         44683                   4           22275             11981   \n",
       "         48523                   1            5129              2376   \n",
       "         21903                   4          241921            186884   \n",
       "         14992                   4           29069             16942   \n",
       "\n",
       "                     product_reorder_rate  UP_orders  UP_orders_ratio  \\\n",
       "order_id product_id                                                     \n",
       "2774568  17668                   0.578199          5         0.384615   \n",
       "         44683                   0.537868          2         0.153846   \n",
       "         48523                   0.463248          2         0.153846   \n",
       "         21903                   0.772500          8         0.615385   \n",
       "         14992                   0.582820          2         0.153846   \n",
       "\n",
       "                     UP_average_pos_in_cart  UP_reorder_rate  \\\n",
       "order_id product_id                                            \n",
       "2774568  17668                         3.60         0.384615   \n",
       "         44683                         9.50         0.153846   \n",
       "         48523                         6.50         0.153846   \n",
       "         21903                         4.25         0.615385   \n",
       "         14992                         7.00         0.153846   \n",
       "\n",
       "                     UP_orders_since_last  UP_delta_hour_vs_last     preds  \n",
       "order_id product_id                                                         \n",
       "2774568  17668                          2                      3  0.348864  \n",
       "         44683                          7                      1  0.064248  \n",
       "         48523                          4                      1  0.094588  \n",
       "         21903                          1                      0  0.633335  \n",
       "         14992                          6                      0  0.079577  "
      ]
     },
     "execution_count": 139,
     "metadata": {},
     "output_type": "execute_result"
    }
   ],
   "source": [
    "test_preds = model.bst.predict(test_data)\n",
    "test_data['preds'] = test_preds\n",
    "test_data.head()"
   ]
  },
  {
   "cell_type": "code",
   "execution_count": 140,
   "metadata": {
    "collapsed": true
   },
   "outputs": [],
   "source": [
    "test_data.reset_index(inplace=True)"
   ]
  },
  {
   "cell_type": "code",
   "execution_count": 141,
   "metadata": {},
   "outputs": [
    {
     "data": {
      "text/html": [
       "<div>\n",
       "<style>\n",
       "    .dataframe thead tr:only-child th {\n",
       "        text-align: right;\n",
       "    }\n",
       "\n",
       "    .dataframe thead th {\n",
       "        text-align: left;\n",
       "    }\n",
       "\n",
       "    .dataframe tbody tr th {\n",
       "        vertical-align: top;\n",
       "    }\n",
       "</style>\n",
       "<table border=\"1\" class=\"dataframe\">\n",
       "  <thead>\n",
       "    <tr style=\"text-align: right;\">\n",
       "      <th></th>\n",
       "      <th>order_id</th>\n",
       "      <th>product_id</th>\n",
       "      <th>user_total_orders</th>\n",
       "      <th>user_total_items</th>\n",
       "      <th>total_distinct_items</th>\n",
       "      <th>user_average_days_between_orders</th>\n",
       "      <th>user_average_basket</th>\n",
       "      <th>order_hour_of_day</th>\n",
       "      <th>days_since_prior_order</th>\n",
       "      <th>days_since_ratio</th>\n",
       "      <th>...</th>\n",
       "      <th>product_orders</th>\n",
       "      <th>product_reorders</th>\n",
       "      <th>product_reorder_rate</th>\n",
       "      <th>UP_orders</th>\n",
       "      <th>UP_orders_ratio</th>\n",
       "      <th>UP_average_pos_in_cart</th>\n",
       "      <th>UP_reorder_rate</th>\n",
       "      <th>UP_orders_since_last</th>\n",
       "      <th>UP_delta_hour_vs_last</th>\n",
       "      <th>preds</th>\n",
       "    </tr>\n",
       "  </thead>\n",
       "  <tbody>\n",
       "    <tr>\n",
       "      <th>0</th>\n",
       "      <td>2774568</td>\n",
       "      <td>17668</td>\n",
       "      <td>13</td>\n",
       "      <td>88</td>\n",
       "      <td>33</td>\n",
       "      <td>12.0</td>\n",
       "      <td>6.769231</td>\n",
       "      <td>15</td>\n",
       "      <td>11.0</td>\n",
       "      <td>0.916667</td>\n",
       "      <td>...</td>\n",
       "      <td>2110</td>\n",
       "      <td>1220</td>\n",
       "      <td>0.578199</td>\n",
       "      <td>5</td>\n",
       "      <td>0.384615</td>\n",
       "      <td>3.60</td>\n",
       "      <td>0.384615</td>\n",
       "      <td>2</td>\n",
       "      <td>3</td>\n",
       "      <td>0.348864</td>\n",
       "    </tr>\n",
       "    <tr>\n",
       "      <th>1</th>\n",
       "      <td>2774568</td>\n",
       "      <td>44683</td>\n",
       "      <td>13</td>\n",
       "      <td>88</td>\n",
       "      <td>33</td>\n",
       "      <td>12.0</td>\n",
       "      <td>6.769231</td>\n",
       "      <td>15</td>\n",
       "      <td>11.0</td>\n",
       "      <td>0.916667</td>\n",
       "      <td>...</td>\n",
       "      <td>22275</td>\n",
       "      <td>11981</td>\n",
       "      <td>0.537868</td>\n",
       "      <td>2</td>\n",
       "      <td>0.153846</td>\n",
       "      <td>9.50</td>\n",
       "      <td>0.153846</td>\n",
       "      <td>7</td>\n",
       "      <td>1</td>\n",
       "      <td>0.064248</td>\n",
       "    </tr>\n",
       "    <tr>\n",
       "      <th>2</th>\n",
       "      <td>2774568</td>\n",
       "      <td>48523</td>\n",
       "      <td>13</td>\n",
       "      <td>88</td>\n",
       "      <td>33</td>\n",
       "      <td>12.0</td>\n",
       "      <td>6.769231</td>\n",
       "      <td>15</td>\n",
       "      <td>11.0</td>\n",
       "      <td>0.916667</td>\n",
       "      <td>...</td>\n",
       "      <td>5129</td>\n",
       "      <td>2376</td>\n",
       "      <td>0.463248</td>\n",
       "      <td>2</td>\n",
       "      <td>0.153846</td>\n",
       "      <td>6.50</td>\n",
       "      <td>0.153846</td>\n",
       "      <td>4</td>\n",
       "      <td>1</td>\n",
       "      <td>0.094588</td>\n",
       "    </tr>\n",
       "    <tr>\n",
       "      <th>3</th>\n",
       "      <td>2774568</td>\n",
       "      <td>21903</td>\n",
       "      <td>13</td>\n",
       "      <td>88</td>\n",
       "      <td>33</td>\n",
       "      <td>12.0</td>\n",
       "      <td>6.769231</td>\n",
       "      <td>15</td>\n",
       "      <td>11.0</td>\n",
       "      <td>0.916667</td>\n",
       "      <td>...</td>\n",
       "      <td>241921</td>\n",
       "      <td>186884</td>\n",
       "      <td>0.772500</td>\n",
       "      <td>8</td>\n",
       "      <td>0.615385</td>\n",
       "      <td>4.25</td>\n",
       "      <td>0.615385</td>\n",
       "      <td>1</td>\n",
       "      <td>0</td>\n",
       "      <td>0.633335</td>\n",
       "    </tr>\n",
       "    <tr>\n",
       "      <th>4</th>\n",
       "      <td>2774568</td>\n",
       "      <td>14992</td>\n",
       "      <td>13</td>\n",
       "      <td>88</td>\n",
       "      <td>33</td>\n",
       "      <td>12.0</td>\n",
       "      <td>6.769231</td>\n",
       "      <td>15</td>\n",
       "      <td>11.0</td>\n",
       "      <td>0.916667</td>\n",
       "      <td>...</td>\n",
       "      <td>29069</td>\n",
       "      <td>16942</td>\n",
       "      <td>0.582820</td>\n",
       "      <td>2</td>\n",
       "      <td>0.153846</td>\n",
       "      <td>7.00</td>\n",
       "      <td>0.153846</td>\n",
       "      <td>6</td>\n",
       "      <td>0</td>\n",
       "      <td>0.079577</td>\n",
       "    </tr>\n",
       "  </tbody>\n",
       "</table>\n",
       "<p>5 rows × 22 columns</p>\n",
       "</div>"
      ],
      "text/plain": [
       "   order_id  product_id  user_total_orders  user_total_items  \\\n",
       "0   2774568       17668                 13                88   \n",
       "1   2774568       44683                 13                88   \n",
       "2   2774568       48523                 13                88   \n",
       "3   2774568       21903                 13                88   \n",
       "4   2774568       14992                 13                88   \n",
       "\n",
       "   total_distinct_items  user_average_days_between_orders  \\\n",
       "0                    33                              12.0   \n",
       "1                    33                              12.0   \n",
       "2                    33                              12.0   \n",
       "3                    33                              12.0   \n",
       "4                    33                              12.0   \n",
       "\n",
       "   user_average_basket  order_hour_of_day  days_since_prior_order  \\\n",
       "0             6.769231                 15                    11.0   \n",
       "1             6.769231                 15                    11.0   \n",
       "2             6.769231                 15                    11.0   \n",
       "3             6.769231                 15                    11.0   \n",
       "4             6.769231                 15                    11.0   \n",
       "\n",
       "   days_since_ratio    ...     product_orders  product_reorders  \\\n",
       "0          0.916667    ...               2110              1220   \n",
       "1          0.916667    ...              22275             11981   \n",
       "2          0.916667    ...               5129              2376   \n",
       "3          0.916667    ...             241921            186884   \n",
       "4          0.916667    ...              29069             16942   \n",
       "\n",
       "   product_reorder_rate  UP_orders  UP_orders_ratio  UP_average_pos_in_cart  \\\n",
       "0              0.578199          5         0.384615                    3.60   \n",
       "1              0.537868          2         0.153846                    9.50   \n",
       "2              0.463248          2         0.153846                    6.50   \n",
       "3              0.772500          8         0.615385                    4.25   \n",
       "4              0.582820          2         0.153846                    7.00   \n",
       "\n",
       "   UP_reorder_rate  UP_orders_since_last  UP_delta_hour_vs_last     preds  \n",
       "0         0.384615                     2                      3  0.348864  \n",
       "1         0.153846                     7                      1  0.064248  \n",
       "2         0.153846                     4                      1  0.094588  \n",
       "3         0.615385                     1                      0  0.633335  \n",
       "4         0.153846                     6                      0  0.079577  \n",
       "\n",
       "[5 rows x 22 columns]"
      ]
     },
     "execution_count": 141,
     "metadata": {},
     "output_type": "execute_result"
    }
   ],
   "source": [
    "test_data.head()"
   ]
  },
  {
   "cell_type": "code",
   "execution_count": 142,
   "metadata": {},
   "outputs": [
    {
     "data": {
      "text/plain": [
       "(4833292, 22)"
      ]
     },
     "execution_count": 142,
     "metadata": {},
     "output_type": "execute_result"
    }
   ],
   "source": [
    "test_data.shape"
   ]
  },
  {
   "cell_type": "markdown",
   "metadata": {},
   "source": [
    "#### 1차 Model(From Previously Ordered Product List)로 뽑은 Test Order별 Product Set"
   ]
  },
  {
   "cell_type": "code",
   "execution_count": null,
   "metadata": {
    "collapsed": true
   },
   "outputs": [],
   "source": [
    "# 먼저 '이전구매품목'에서 Threshold값 기준으로 선정한 제품을 Dictionary 형태로 만든다. \n",
    "\n",
    "thresholds = 0.2\n",
    "\n",
    "d = dict()\n",
    "for row in test_data.itertuples():\n",
    "    if row.preds > thresholds:\n",
    "        try:\n",
    "            d[row.order_id].add(row.product_id)\n",
    "        except:\n",
    "            d[row.order_id] = set()\n",
    "            d[row.order_id].add(row.product_id)"
   ]
  },
  {
   "cell_type": "code",
   "execution_count": null,
   "metadata": {
    "collapsed": true
   },
   "outputs": [],
   "source": [
    "len(d)"
   ]
  },
  {
   "cell_type": "markdown",
   "metadata": {},
   "source": [
    "#### Memory를 위해 이미 사용한 모델의 변수들은 다 지워주자"
   ]
  },
  {
   "cell_type": "code",
   "execution_count": 40,
   "metadata": {
    "collapsed": true
   },
   "outputs": [],
   "source": [
    "del (validation)\n",
    "del (val_preds)\n",
    "del (model)"
   ]
  },
  {
   "cell_type": "markdown",
   "metadata": {},
   "source": [
    "# 2차 Model 추가"
   ]
  },
  {
   "cell_type": "code",
   "execution_count": null,
   "metadata": {
    "collapsed": true
   },
   "outputs": [],
   "source": [
    "# Train test template 1을 참고"
   ]
  },
  {
   "cell_type": "code",
   "execution_count": 39,
   "metadata": {
    "collapsed": true
   },
   "outputs": [],
   "source": [
    "train_data2 = pd.read_csv('C:\\\\Users\\\\ACEIT\\\\Documents\\\\DSS\\\\Project\\\\Instacart\\\\lgbexample_trainX_3.csv',\n",
    "                         dtype = {\n",
    "                             'order_id': np.int32,\n",
    "                             'product_id': np.uint16,\n",
    "                             'user_total_orders': np.uint16,\n",
    "                             'user_total_items' : np.uint16,\n",
    "                             'total_distinct_items' : np.uint16,\n",
    "                             'user_average_days_orders' : np.float16,\n",
    "                             'user_average_basket': np.float32,\n",
    "                             'order_hour_of_day' : np.uint16,\n",
    "                             'days_since_prior_order': np.float16,\n",
    "                             'product_orders': np.int32,\n",
    "                             'product_reorders': np.int32,          \n",
    "                             'train_y': np.int16             \n",
    "                         })"
   ]
  },
  {
   "cell_type": "code",
   "execution_count": null,
   "metadata": {
    "collapsed": true
   },
   "outputs": [],
   "source": [
    "train_data2.shape"
   ]
  },
  {
   "cell_type": "code",
   "execution_count": null,
   "metadata": {
    "collapsed": true
   },
   "outputs": [],
   "source": [
    "train_data2.head()"
   ]
  },
  {
   "cell_type": "code",
   "execution_count": null,
   "metadata": {
    "collapsed": true
   },
   "outputs": [],
   "source": [
    "train_data2.drop('Unnamed: 0', axis=1, inplace=True)"
   ]
  },
  {
   "cell_type": "code",
   "execution_count": null,
   "metadata": {
    "collapsed": true
   },
   "outputs": [],
   "source": [
    "train_data2.set_index(['order_id', 'product_id'], inplace=True)"
   ]
  },
  {
   "cell_type": "code",
   "execution_count": null,
   "metadata": {
    "collapsed": true
   },
   "outputs": [],
   "source": [
    "train_data2.head(2)"
   ]
  },
  {
   "cell_type": "code",
   "execution_count": null,
   "metadata": {
    "collapsed": true
   },
   "outputs": [],
   "source": [
    "model = Train(train_data2)"
   ]
  },
  {
   "cell_type": "code",
   "execution_count": null,
   "metadata": {
    "collapsed": true
   },
   "outputs": [],
   "source": [
    "model.split()"
   ]
  },
  {
   "cell_type": "code",
   "execution_count": null,
   "metadata": {
    "collapsed": true
   },
   "outputs": [],
   "source": [
    "model.XGB()"
   ]
  },
  {
   "cell_type": "code",
   "execution_count": null,
   "metadata": {
    "collapsed": true
   },
   "outputs": [],
   "source": [
    "plt.clf()\n",
    "xgb.plot_importance(model.bst)\n",
    "plt.show()"
   ]
  },
  {
   "cell_type": "code",
   "execution_count": null,
   "metadata": {
    "collapsed": true
   },
   "outputs": [],
   "source": [
    "val_preds = model.bst.predict(model.x_valDM)"
   ]
  },
  {
   "cell_type": "code",
   "execution_count": null,
   "metadata": {
    "collapsed": true
   },
   "outputs": [],
   "source": [
    "val_preds.shape"
   ]
  },
  {
   "cell_type": "code",
   "execution_count": null,
   "metadata": {
    "collapsed": true
   },
   "outputs": [],
   "source": [
    "model.x_val.shape"
   ]
  },
  {
   "cell_type": "code",
   "execution_count": null,
   "metadata": {
    "collapsed": true
   },
   "outputs": [],
   "source": [
    "validation2 = pd.DataFrame(model.x_val)\n",
    "validation2['real_y'] = model.y_val\n",
    "validation2['predicted_y'] = val_preds"
   ]
  },
  {
   "cell_type": "code",
   "execution_count": null,
   "metadata": {
    "collapsed": true
   },
   "outputs": [],
   "source": [
    "validation2.groupby('real_y').size()"
   ]
  },
  {
   "cell_type": "code",
   "execution_count": null,
   "metadata": {
    "collapsed": true
   },
   "outputs": [],
   "source": [
    "validation2.groupby('real_y')['predicted_y'].mean()"
   ]
  },
  {
   "cell_type": "code",
   "execution_count": null,
   "metadata": {
    "collapsed": true
   },
   "outputs": [],
   "source": [
    "threshold = 0.3\n",
    "validation2['predicted_y_thres_0.04'] = (validation2['predicted_y'] > 0.3).astype(np.int16)"
   ]
  },
  {
   "cell_type": "code",
   "execution_count": null,
   "metadata": {
    "collapsed": true
   },
   "outputs": [],
   "source": [
    "f1_score(y_true = validation2['real_y'], y_pred = validation2['predicted_y_thres_0.04'])"
   ]
  },
  {
   "cell_type": "markdown",
   "metadata": {},
   "source": [
    "## Model2의 Test Set 가져오기"
   ]
  },
  {
   "cell_type": "code",
   "execution_count": null,
   "metadata": {
    "collapsed": true
   },
   "outputs": [],
   "source": [
    "test_data2 = pd.read_csv('C:\\\\Users\\\\ACEIT\\\\Documents\\\\DSS\\\\Project\\\\Instacart\\\\lgbexample_testX_3.csv',\n",
    "                         dtype = {\n",
    "                             'order_id': np.int32,\n",
    "                             'product_id': np.uint16,\n",
    "                             'user_total_orders': np.uint16,\n",
    "                             'user_total_items' : np.uint16,\n",
    "                             'total_distinct_items' : np.uint16,\n",
    "                             'user_average_days_orders' : np.float16,\n",
    "                             'user_average_basket': np.float32,\n",
    "                             'order_hour_of_day' : np.uint16,\n",
    "                             'days_since_prior_order': np.float16,\n",
    "                             'product_orders': np.int32,\n",
    "                             'product_reorders': np.int32,      \n",
    "                         })"
   ]
  },
  {
   "cell_type": "code",
   "execution_count": 116,
   "metadata": {
    "collapsed": true
   },
   "outputs": [],
   "source": [
    "test_data2.shape"
   ]
  },
  {
   "cell_type": "code",
   "execution_count": 124,
   "metadata": {
    "collapsed": true
   },
   "outputs": [],
   "source": [
    "test_data2.head(2)"
   ]
  },
  {
   "cell_type": "code",
   "execution_count": 125,
   "metadata": {},
   "outputs": [
    {
     "data": {
      "text/plain": [
       "{'a': {3425, '3425'}, 'b': set(), 'c': set()}"
      ]
     },
     "execution_count": 125,
     "metadata": {},
     "output_type": "execute_result"
    }
   ],
   "source": [
    "test_data2.drop('Unnamed: 0', axis=1, inplace=True)"
   ]
  },
  {
   "cell_type": "code",
   "execution_count": null,
   "metadata": {
    "collapsed": true
   },
   "outputs": [],
   "source": [
    "train_data2.set_index(['order_id', 'product_id'], inplace=True)"
   ]
  },
  {
   "cell_type": "code",
   "execution_count": null,
   "metadata": {
    "collapsed": true
   },
   "outputs": [],
   "source": [
    "test_data_D2 = xgb.DMatrix(test_data2)"
   ]
  },
  {
   "cell_type": "code",
   "execution_count": null,
   "metadata": {
    "collapsed": true
   },
   "outputs": [],
   "source": [
    "test_preds2 = model.bst.predict(test_data_D2)\n",
    "test_data2['preds'] = test_preds2\n",
    "test_data2.head()"
   ]
  },
  {
   "cell_type": "code",
   "execution_count": null,
   "metadata": {
    "collapsed": true
   },
   "outputs": [],
   "source": [
    "test_data2.reset_index(inplace=True)"
   ]
  },
  {
   "cell_type": "code",
   "execution_count": null,
   "metadata": {
    "collapsed": true
   },
   "outputs": [],
   "source": [
    "test_data2.shape"
   ]
  },
  {
   "cell_type": "code",
   "execution_count": null,
   "metadata": {
    "collapsed": true
   },
   "outputs": [],
   "source": [
    "test_data2.head"
   ]
  },
  {
   "cell_type": "markdown",
   "metadata": {},
   "source": [
    "#### 2차 Model(From No Previous Order History Product List)로 뽑은 Test Order별 Product Set을 \"추가\""
   ]
  },
  {
   "cell_type": "code",
   "execution_count": null,
   "metadata": {
    "collapsed": true
   },
   "outputs": [],
   "source": [
    "len(d)"
   ]
  },
  {
   "cell_type": "code",
   "execution_count": null,
   "metadata": {
    "collapsed": true
   },
   "outputs": [],
   "source": [
    "# 'Model2(신규품목)에서 Threshold값 기준으로 선정한 제품을 기존의 Dictionary에 추가한다.\n",
    "\n",
    "thresholds = 0.3\n",
    "\n",
    "for row in test_data2.itertuples():\n",
    "    if row.preds > thresholds:\n",
    "        try:\n",
    "            d[row.order_id].add(row.product_id)\n",
    "        except:\n",
    "            d[row.order_id] = set()\n",
    "            d[row.order_id].add(row.product_id)\n",
    "            #print (\"Something went wrong at \", row.order_id)"
   ]
  },
  {
   "cell_type": "code",
   "execution_count": null,
   "metadata": {
    "collapsed": true
   },
   "outputs": [],
   "source": [
    "# 원칙적으로 아래 코드는 d(len)과 똑같은 74129개를 만들어야 한다. \n",
    "d2 = dict()\n",
    "for i in d.keys():\n",
    "    for j in d[i]:\n",
    "        try: \n",
    "            d2[i] += ' ' + str(j)\n",
    "        except:\n",
    "            d2[i] = str(j)\n",
    "        "
   ]
  },
  {
   "cell_type": "code",
   "execution_count": null,
   "metadata": {
    "collapsed": true
   },
   "outputs": [],
   "source": [
    "len(d2) #OK Check"
   ]
  },
  {
   "cell_type": "code",
   "execution_count": null,
   "metadata": {
    "collapsed": true
   },
   "outputs": [],
   "source": [
    "for order in test_order.order_id:\n",
    "    if order not in d2:\n",
    "        d2[order] = 'None'"
   ]
  },
  {
   "cell_type": "code",
   "execution_count": null,
   "metadata": {
    "collapsed": true
   },
   "outputs": [],
   "source": [
    "len(d2) # Must Be 75,000"
   ]
  },
  {
   "cell_type": "code",
   "execution_count": null,
   "metadata": {
    "collapsed": true
   },
   "outputs": [],
   "source": [
    "submission = pd.DataFrame.from_dict(d2, orient='index')"
   ]
  },
  {
   "cell_type": "code",
   "execution_count": null,
   "metadata": {
    "collapsed": true
   },
   "outputs": [],
   "source": [
    "submission.shape"
   ]
  },
  {
   "cell_type": "code",
   "execution_count": null,
   "metadata": {
    "collapsed": true
   },
   "outputs": [],
   "source": [
    "submission.reset_index(inplace=True)\n",
    "submission.columns = ['order_id', 'products']"
   ]
  },
  {
   "cell_type": "code",
   "execution_count": null,
   "metadata": {
    "collapsed": true
   },
   "outputs": [],
   "source": [
    "submission.to_csv('C:\\\\Users\\\\ACEIT\\\\Documents\\\\DSS\\\\Project\\\\Instacart\\\\submission2.csv', index=False)"
   ]
  },
  {
   "cell_type": "code",
   "execution_count": null,
   "metadata": {
    "collapsed": true
   },
   "outputs": [],
   "source": []
  },
  {
   "cell_type": "code",
   "execution_count": null,
   "metadata": {
    "collapsed": true
   },
   "outputs": [],
   "source": [
    "# 그냥 단순하게 '신규'로 자주 구매되는 제품 리스트를 만든 후,\n",
    "# User cluster 값 추가\n",
    "# Order cluster 값 추가\n",
    "# 그런 다음 각 order_id에다가 자주 추가되는 제품 100개 정도만 다 갖다 붙인다.\n",
    "# 그리고 training set에 있냐 없냐로 1, 0\n",
    "# 학습\n",
    "# 똑같이 진행"
   ]
  }
 ],
 "metadata": {
  "kernelspec": {
   "display_name": "Python 3",
   "language": "python",
   "name": "python3"
  },
  "language_info": {
   "codemirror_mode": {
    "name": "ipython",
    "version": 3
   },
   "file_extension": ".py",
   "mimetype": "text/x-python",
   "name": "python",
   "nbconvert_exporter": "python",
   "pygments_lexer": "ipython3",
   "version": "3.6.1"
  }
 },
 "nbformat": 4,
 "nbformat_minor": 2
}
